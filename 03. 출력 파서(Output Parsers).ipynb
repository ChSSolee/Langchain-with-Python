{
 "cells": [
  {
   "cell_type": "markdown",
   "id": "af185d8d",
   "metadata": {},
   "source": [
    "# 03. 출력 파서(Output Parsers)\n",
    "\n",
    "<br>\n",
    "\n",
    "### 출력파서(Output Parser)\n",
    "- LangChain의 출력파서는 언어 모델(LLM)의 출력을 더 유용하고 구조화된 형태로 변환하는 중요한 컴포넌트\n",
    "\n",
    "<br>\n",
    "\n",
    "#### 출력파서의 역할\n",
    "- LLM의 출력을 받아 더 적합한 형식으로 변환\n",
    "- 구조화된 데이터 생성에 매우 유용\n",
    "- LangChain 프레임워크에서 다양한 종류의 출력 데이터를 파싱하고 처리\n",
    "\n",
    "<br>\n",
    "\n",
    "#### 주요 특징\n",
    "- **다양성** : LangChain은 많은 종류의 출력 파서를 제공\n",
    "- **스트리밍 지원** : 많은 출력 파서들이 스트리밍을 지원\n",
    "- **확장성** : 최소한의 모듈부터 복잡한 모듈까지 확장 가능한 인터페이스를 제공\n",
    "\n",
    "<br>\n",
    "\n",
    "#### 출력파서의 이점\n",
    "- **구조화** : LLM의 자유 형식 텍스트 출력을 구조화된 데이터로 변환\n",
    "- **일관성** : 출력 형식을 일관되게 유지하여 후속 처리를 용이\n",
    "- **유연성** : 다양한 출력 형식(JSON, 리스트, 딕셔너리 등)으로 변환이 가능\n",
    "\n",
    "<br>\n",
    "\n",
    "#### 출력파서를 사용할 때와 사용하지 않을 때\n",
    "- 아무런 출력파서를 사용하지 않을때\n",
    "\n",
    "```md\n",
    "**중요 내용 추출:**\n",
    "\n",
    "1. **발신자:** 김철수 (chulsoo.kim@bikecorporation.me)\n",
    "2. **수신자:** 이은채 (eunchae@teddyinternational.me)\n",
    "3. **제목:** \"ZENESIS\" 자전거 유통 협력 및 미팅 일정 제안\n",
    "4. **요청 사항:**\n",
    "   - ZENESIS 모델의 상세한 브로슈어 요청 (기술 사양, 배터리 성능, 디자인 정보 포함)\n",
    "5. **미팅 제안:**\n",
    "   - 날짜: 다음 주 화요일 (1월 15일)\n",
    "   - 시간: 오전 10시\n",
    "   - 장소: 귀사 사무실\n",
    "\n",
    "6. **발신자 정보:**\n",
    "   - 김철수, 상무이사, 바이크코퍼레이션\n",
    "```"
   ]
  },
  {
   "cell_type": "markdown",
   "id": "40e7e61f",
   "metadata": {},
   "source": [
    "<br>\n",
    "\n",
    "- JSON 형식의 구조화된 답변\n",
    "\n",
    "```md\n",
    "{\n",
    "  \"person\": \"김철수\",\n",
    "  \"email\": \"chulsoo.kim@bikecorporation.me\",\n",
    "  \"subject\": \"\\\"ZENESIS\\\" 자전거 유통 협력 및 미팅 일정 제안\",\n",
    "  \"summary\": \"바이크코퍼레이션의 김철수 상무가 테디인터내셔널의 이은채 대리에게 신규 자전거 'ZENESIS' 모델에 대한 브로슈어 요청과 기술 사양, 배터리 성능, 디자인 정보 요청. 또한, 협력 논의를 위해 1월 15일 오전 10시에 미팅 제안.\",\n",
    "  \"date\": \"1월 15일 오전 10시\"\n",
    "}\n",
    "\n",
    "```\n"
   ]
  },
  {
   "cell_type": "markdown",
   "id": "32d4dfdc",
   "metadata": {},
   "source": [
    "<br>\n",
    "\n",
    "## 03-01. Pydantic 출력 파서(`PydanticOutputParser`)\n",
    "\n",
    "<br>\n",
    "\n",
    "### `PydanticOuputParser`\n",
    "- `PydanticOutputParser` 는 언어 모델의 출력을 더 구조화된 정보로 변환 하는 데 도움이 되는 클래스\n",
    "- 단순 텍스트 형태의 응답 대신, 사용자가 필요로 하는 정보를 명확하고 체계적인 형태로 제공 \n",
    "\n",
    "- **`PydanticOutputParser` (이는 대부분의 `OutputParser` 에 해당) 에는 주로 두 가지 핵심 메서드가 구현 되어야 함**\n",
    "    - `get_format_instructions()` : 언어 모델이 출력해야 할 정보의 형식을 정의하는 지침(instruction) 을 제공\n",
    "      - 예) 언어 모델이 출력해야 할 데이터의 필드와 그 형태를 설명하는 지침을 문자열로 반환. 이때 설정하는 지침(`instruction`) 의 역할이 매우 중요\n",
    "      - 이 지침에 따라 언어 모델은 출력을 구조화하고, 이를 특정 데이터 모델에 맞게 변환\n",
    "    - `parse()` : 언어 모델의 출력(문자열로 가정)을 받아들여 이를 특정 구조로 분석하고 변환\n",
    "      - `Pydantic`와 같은 도구를 사용하여, 입력된 문자열을 사전 정의된 스키마에 따라 검증하고, 해당 스키마를 따르는 데이터 구조로 변환\n"
   ]
  },
  {
   "cell_type": "code",
   "execution_count": 1,
   "id": "ea82748d",
   "metadata": {},
   "outputs": [],
   "source": [
    "from dotenv import load_dotenv"
   ]
  },
  {
   "cell_type": "code",
   "execution_count": 2,
   "id": "6efcc215",
   "metadata": {},
   "outputs": [
    {
     "data": {
      "text/plain": [
       "True"
      ]
     },
     "execution_count": 2,
     "metadata": {},
     "output_type": "execute_result"
    }
   ],
   "source": [
    "load_dotenv()"
   ]
  },
  {
   "cell_type": "code",
   "execution_count": 3,
   "id": "d8068085",
   "metadata": {},
   "outputs": [],
   "source": [
    "from langchain_openai import ChatOpenAI\n",
    "from langchain_core.output_parsers import PydanticOutputParser\n",
    "from pydantic import BaseModel, Field"
   ]
  },
  {
   "cell_type": "code",
   "execution_count": 4,
   "id": "564d0fed",
   "metadata": {},
   "outputs": [],
   "source": [
    "llm = ChatOpenAI(temperature=0, model_name=\"gpt-4o-mini\")"
   ]
  },
  {
   "cell_type": "markdown",
   "id": "367a01d7",
   "metadata": {},
   "source": [
    "<br>\n",
    "\n",
    "- 이메일 본문 예시"
   ]
  },
  {
   "cell_type": "code",
   "execution_count": 5,
   "id": "ae0fc4ef",
   "metadata": {},
   "outputs": [],
   "source": [
    "email_conversation = \"\"\"From: 김철수 (chulsoo.kim@bikecorporation.me)\n",
    "To: 이은채 (eunchae@teddyinternational.me)\n",
    "Subject: \"ZENESIS\" 자전거 유통 협력 및 미팅 일정 제안\n",
    "\n",
    "안녕하세요, 이은채 대리님,\n",
    "\n",
    "저는 바이크코퍼레이션의 김철수 상무입니다. 최근 보도자료를 통해 귀사의 신규 자전거 \"ZENESIS\"에 대해 알게 되었습니다. 바이크코퍼레이션은 자전거 제조 및 유통 분야에서 혁신과 품질을 선도하는 기업으로, 이 분야에서의 장기적인 경험과 전문성을 가지고 있습니다.\n",
    "\n",
    "ZENESIS 모델에 대한 상세한 브로슈어를 요청드립니다. 특히 기술 사양, 배터리 성능, 그리고 디자인 측면에 대한 정보가 필요합니다. 이를 통해 저희가 제안할 유통 전략과 마케팅 계획을 보다 구체화할 수 있을 것입니다.\n",
    "\n",
    "또한, 협력 가능성을 더 깊이 논의하기 위해 다음 주 화요일(1월 15일) 오전 10시에 미팅을 제안합니다. 귀사 사무실에서 만나 이야기를 나눌 수 있을까요?\n",
    "\n",
    "감사합니다.\n",
    "\n",
    "김철수\n",
    "상무이사\n",
    "바이크코퍼레이션\n",
    "\"\"\""
   ]
  },
  {
   "cell_type": "markdown",
   "id": "d3d8ac0a",
   "metadata": {},
   "source": [
    "- 출력 파서를 사용하지 않는 경우 예시"
   ]
  },
  {
   "cell_type": "code",
   "execution_count": 6,
   "id": "5273af86",
   "metadata": {},
   "outputs": [],
   "source": [
    "from itertools import chain\n",
    "from langchain_core.prompts import PromptTemplate"
   ]
  },
  {
   "cell_type": "code",
   "execution_count": 7,
   "id": "a0a153a3",
   "metadata": {},
   "outputs": [
    {
     "name": "stdout",
     "output_type": "stream",
     "text": [
      "이메일의 중요한 내용은 다음과 같습니다:\n",
      "\n",
      "1. 김철수 상무가 바이크코퍼레이션을 대표하여 이은채 대리에게 연락.\n",
      "2. \"ZENESIS\" 자전거에 대한 관심 표명.\n",
      "3. ZENESIS 모델의 상세한 브로슈어 요청 (기술 사양, 배터리 성능, 디자인 정보 포함).\n",
      "4. 유통 전략 및 마케팅 계획 구체화를 위한 정보 필요.\n",
      "5. 협력 가능성 논의를 위한 미팅 제안: 다음 주 화요일(1월 15일) 오전 10시, 귀사 사무실에서."
     ]
    }
   ],
   "source": [
    "prompt = PromptTemplate.from_template(\n",
    "    \"다음의 이메일 내용중 중요한 내용을 추출해 주세요.\\n\\n{email_conversation}\"\n",
    ")\n",
    "\n",
    "llm = ChatOpenAI(temperature=0, model_name=\"gpt-4o\")\n",
    "\n",
    "chain = prompt | llm\n",
    "\n",
    "answer = chain.stream({\"email_conversation\": email_conversation})\n",
    "\n",
    "for chunk in answer:\n",
    "    print(chunk.content, flush=True, end='')"
   ]
  },
  {
   "cell_type": "markdown",
   "id": "18bad854",
   "metadata": {},
   "source": [
    "<br>\n",
    "\n",
    "#### `Pydantic` 스타일로 정의된 클래스를 사용하여 이메일의 정보를 파싱"
   ]
  },
  {
   "cell_type": "code",
   "execution_count": 8,
   "id": "c6539b55",
   "metadata": {},
   "outputs": [],
   "source": [
    "class EmailSummary(BaseModel):\n",
    "    person: str = Field(description=\"메일을 보낸 사람\")\n",
    "    email: str = Field(description=\"메일을 보낸 사람의 이메일 주소\")\n",
    "    subject: str = Field(description=\"메일 제목\")\n",
    "    summary: str = Field(description=\"메일 본문을 요약한 텍스트\")\n",
    "    date: str = Field(description=\"메일 본문에 언급된 미팅 날짜와 시간\")"
   ]
  },
  {
   "cell_type": "code",
   "execution_count": null,
   "id": "530b2db6",
   "metadata": {},
   "outputs": [
    {
     "name": "stdout",
     "output_type": "stream",
     "text": [
      "The output should be formatted as a JSON instance that conforms to the JSON schema below.\n",
      "\n",
      "As an example, for the schema {\"properties\": {\"foo\": {\"title\": \"Foo\", \"description\": \"a list of strings\", \"type\": \"array\", \"items\": {\"type\": \"string\"}}}, \"required\": [\"foo\"]}\n",
      "the object {\"foo\": [\"bar\", \"baz\"]} is a well-formatted instance of the schema. The object {\"properties\": {\"foo\": [\"bar\", \"baz\"]}} is not well-formatted.\n",
      "\n",
      "Here is the output schema:\n",
      "```\n",
      "{\"properties\": {\"person\": {\"description\": \"메일을 보낸 사람\", \"title\": \"Person\", \"type\": \"string\"}, \"email\": {\"description\": \"메일을 보낸 사람의 이메일 주소\", \"title\": \"Email\", \"type\": \"string\"}, \"subject\": {\"description\": \"메일 제목\", \"title\": \"Subject\", \"type\": \"string\"}, \"summary\": {\"description\": \"메일 본문을 요약한 텍스트\", \"title\": \"Summary\", \"type\": \"string\"}, \"date\": {\"description\": \"메일 본문에 언급된 미팅 날짜와 시간\", \"title\": \"Date\", \"type\": \"string\"}}, \"required\": [\"person\", \"email\", \"subject\", \"summary\", \"date\"]}\n",
      "```\n"
     ]
    }
   ],
   "source": [
    "parser = PydanticOutputParser(pydantic_object=EmailSummary)\n",
    "print(parser.get_format_instructions())"
   ]
  },
  {
   "cell_type": "markdown",
   "id": "0c442aee",
   "metadata": {},
   "source": [
    "<br>\n",
    "\n",
    "- 프롬프트 정의\n",
    "1. `question` : 유저의 질문\n",
    "2. `email_conversation` : 이메일 본문의 내용\n",
    "3. `format` : 형식을 지정"
   ]
  },
  {
   "cell_type": "code",
   "execution_count": 13,
   "id": "8911771b",
   "metadata": {},
   "outputs": [],
   "source": [
    "prompt = PromptTemplate.from_template(\n",
    "    \"\"\"\n",
    "    You are a helpful assistant. Please answer the following questions in KOREAN.\n",
    "\n",
    "    QUESTION:\n",
    "    {question}\n",
    "\n",
    "    EMAIL CONVERSATION:\n",
    "    {email_conversation}\n",
    "\n",
    "    FORMAT:\n",
    "    {format}\n",
    "\"\"\"\n",
    ")"
   ]
  },
  {
   "cell_type": "markdown",
   "id": "41ab0906",
   "metadata": {},
   "source": [
    "- `PydanticOutputParser의` 부분 포맷팅(partial) 추가"
   ]
  },
  {
   "cell_type": "code",
   "execution_count": 14,
   "id": "39af3dc6",
   "metadata": {},
   "outputs": [],
   "source": [
    "prompt = prompt.partial(format=parser.get_format_instructions())"
   ]
  },
  {
   "cell_type": "markdown",
   "id": "6c971bb6",
   "metadata": {},
   "source": [
    "- chain 생성"
   ]
  },
  {
   "cell_type": "code",
   "execution_count": 15,
   "id": "09160d1b",
   "metadata": {},
   "outputs": [],
   "source": [
    "chain = prompt | llm"
   ]
  },
  {
   "cell_type": "code",
   "execution_count": 31,
   "id": "536a9f46",
   "metadata": {},
   "outputs": [],
   "source": [
    "response = chain.invoke(\n",
    "    {\n",
    "        \"email_conversation\": email_conversation,\n",
    "        \"question\": \"이메일 내용중 주요 내용을 추출해 주세요.\",\n",
    "    }\n",
    ")"
   ]
  },
  {
   "cell_type": "code",
   "execution_count": 36,
   "id": "40f39daf",
   "metadata": {},
   "outputs": [
    {
     "name": "stdout",
     "output_type": "stream",
     "text": [
      "```json\n",
      "{\n",
      "    \"person\": \"김철수\",\n",
      "    \"email\": \"chulsoo.kim@bikecorporation.me\",\n",
      "    \"subject\": \"\\\"ZENESIS\\\" 자전거 유통 협력 및 미팅 일정 제안\",\n",
      "    \"summary\": \"김철수 상무는 바이크코퍼레이션의 자전거 유통 협력을 제안하며, ZENESIS 모델의 상세한 브로슈어를 요청하고, 협력 가능성을 논의하기 위해 1월 15일 오전 10시에 미팅을 제안합니다.\",\n",
      "    \"date\": \"1월 15일 오전 10시\"\n",
      "}\n",
      "```\n"
     ]
    }
   ],
   "source": [
    "output = response.content\n",
    "print(output)"
   ]
  },
  {
   "cell_type": "markdown",
   "id": "cdbaf40b",
   "metadata": {},
   "source": [
    "<br>\n",
    "\n",
    "- `parser를` 사용하여 결과를 파싱하고 `EmailSummary` 객체로 변환"
   ]
  },
  {
   "cell_type": "code",
   "execution_count": 38,
   "id": "ff160a14",
   "metadata": {},
   "outputs": [
    {
     "name": "stdout",
     "output_type": "stream",
     "text": [
      "person='김철수' email='chulsoo.kim@bikecorporation.me' subject='\"ZENESIS\" 자전거 유통 협력 및 미팅 일정 제안' summary='김철수 상무는 바이크코퍼레이션의 자전거 유통 협력을 제안하며, ZENESIS 모델의 상세한 브로슈어를 요청하고, 협력 가능성을 논의하기 위해 1월 15일 오전 10시에 미팅을 제안합니다.' date='1월 15일 오전 10시'\n"
     ]
    }
   ],
   "source": [
    "structured_output = parser.parse(output)\n",
    "print(structured_output)"
   ]
  },
  {
   "cell_type": "markdown",
   "id": "78397cf9",
   "metadata": {},
   "source": [
    "<br>\n",
    "\n",
    "### `parser` 가 추가된 체인\n",
    "- 출력 결과를 정의한 Pydantic 객체로 생성\n"
   ]
  },
  {
   "cell_type": "code",
   "execution_count": 39,
   "id": "80a5e4b7",
   "metadata": {},
   "outputs": [],
   "source": [
    "chain = prompt | llm | parser"
   ]
  },
  {
   "cell_type": "code",
   "execution_count": 40,
   "id": "554eb4b9",
   "metadata": {},
   "outputs": [
    {
     "data": {
      "text/plain": [
       "EmailSummary(person='김철수', email='chulsoo.kim@bikecorporation.me', subject='\"ZENESIS\" 자전거 유통 협력 및 미팅 일정 제안', summary='김철수 상무는 바이크코퍼레이션의 자전거 유통 협력을 위해 ZENESIS 모델의 상세한 브로슈어를 요청하고, 협력 가능성을 논의하기 위해 1월 15일 오전 10시에 미팅을 제안합니다.', date='1월 15일 오전 10시')"
      ]
     },
     "execution_count": 40,
     "metadata": {},
     "output_type": "execute_result"
    }
   ],
   "source": [
    "response = chain.invoke(\n",
    "    {\n",
    "        \"email_conversation\": email_conversation,\n",
    "        \"question\": \"이메일 내용중 주요 내용을 추출해 주세요.\",\n",
    "    }\n",
    ")\n",
    "\n",
    "response"
   ]
  },
  {
   "cell_type": "markdown",
   "id": "f21be23c",
   "metadata": {},
   "source": [
    "<br>\n",
    "\n",
    "### `with_structured_output()`\n",
    "- `.with_structured_output(Pydantic)`을 사용하여 출력 파서를 추가하면, 출력을 `Pydantic` 객체로 변환 가능\n",
    "- `.with_structured_output()` 함수는 `stream()` 기능을 지원 X"
   ]
  },
  {
   "cell_type": "code",
   "execution_count": 50,
   "id": "7e750bd2",
   "metadata": {},
   "outputs": [],
   "source": [
    "llm_with_structered = ChatOpenAI(\n",
    "    temperature=0, model_name=\"gpt-4o-mini\"\n",
    ").with_structured_output(EmailSummary)"
   ]
  },
  {
   "cell_type": "code",
   "execution_count": 51,
   "id": "9173e571",
   "metadata": {},
   "outputs": [
    {
     "data": {
      "text/plain": [
       "EmailSummary(person='이은채', email='eunchae@teddyinternational.me', subject='\"ZENESIS\" 자전거 유통 협력 및 미팅 일정 제안', summary=\"김철수 상무가 이은채 대리에게 바이크코퍼레이션과 'ZENESIS' 자전거의 유통 협력에 대해 논의하고자 미팅을 제안하며, 제품에 대한 상세한 브로슈어 요청.\", date='2024-01-08')"
      ]
     },
     "execution_count": 51,
     "metadata": {},
     "output_type": "execute_result"
    }
   ],
   "source": [
    "answer = llm_with_structered.invoke(email_conversation)\n",
    "answer"
   ]
  },
  {
   "cell_type": "markdown",
   "id": "b41a23fc",
   "metadata": {},
   "source": [
    "<br>\n",
    "\n",
    "<hr>\n",
    "\n",
    "<br>\n",
    "\n",
    "## 03-02. 콤마 구분자 출력 파서(CommaSeparatedListOutputParser)\n",
    "\n",
    "<br>\n",
    "\n",
    "### `CommaSeparatedListOutputParser`\n",
    "- `CommaSeparatedListOutputParser` 는 쉼표로 구분된 항목 목록을 반환할 필요가 있을 때 유용\n",
    "\n",
    "- 사용자가 입력한 데이터나 요청한 정보를 쉼표로 구분하여 명확하고 간결한 목록 형태로 제공받을 수 있음\n",
    "  - 예) 여러 개의 데이터 포인트, 이름, 항목 또는 다른 종류의 값들을 나열할 때 이를 통해 효과적으로 정보를 정리하고 사용자에게 전달\n",
    "- 이 방법은 정보를 구조화하고, 가독성을 높이며, 특히 데이터를 다루거나 **리스트 형태의 결과를 요구하는 경우**에 매우 유용"
   ]
  },
  {
   "cell_type": "code",
   "execution_count": 52,
   "id": "74d8ee66",
   "metadata": {},
   "outputs": [],
   "source": [
    "from langchain_core.output_parsers import CommaSeparatedListOutputParser\n",
    "from langchain_core.prompts import PromptTemplate\n",
    "from langchain_openai import ChatOpenAI"
   ]
  },
  {
   "cell_type": "markdown",
   "id": "b41eb256",
   "metadata": {},
   "source": [
    "- 콤마로 구분된 리스트 출력 파서"
   ]
  },
  {
   "cell_type": "code",
   "execution_count": 53,
   "id": "ea184808",
   "metadata": {},
   "outputs": [],
   "source": [
    "output_parser = CommaSeparatedListOutputParser()"
   ]
  },
  {
   "cell_type": "markdown",
   "id": "34445beb",
   "metadata": {},
   "source": [
    "- 출력 형식 지침"
   ]
  },
  {
   "cell_type": "code",
   "execution_count": 54,
   "id": "0c179031",
   "metadata": {},
   "outputs": [],
   "source": [
    "format_instructions = output_parser.get_format_instructions()"
   ]
  },
  {
   "cell_type": "markdown",
   "id": "91846c8b",
   "metadata": {},
   "source": [
    "- 주제에 대한 다섯 가지를 나열하라는 템플릿\n",
    "  - 입력 변수로 `subject` 사용\n",
    "  - 부분 변수로 형식 지침 사용"
   ]
  },
  {
   "cell_type": "code",
   "execution_count": 55,
   "id": "4f72d242",
   "metadata": {},
   "outputs": [],
   "source": [
    "prompt = PromptTemplate(\n",
    "    template=\"List five {subject}.\\n{format_instructions}\",\n",
    "    input_variables=[\"subject\"],  \n",
    "    partial_variables={\"format_instructions\": format_instructions},\n",
    ")\n"
   ]
  },
  {
   "cell_type": "code",
   "execution_count": 56,
   "id": "80281ed6",
   "metadata": {},
   "outputs": [],
   "source": [
    "model = ChatOpenAI(temperature=0, model='gpt-4o-mini')\n",
    "chain = prompt | model | output_parser"
   ]
  },
  {
   "cell_type": "code",
   "execution_count": 57,
   "id": "3585f3c1",
   "metadata": {},
   "outputs": [
    {
     "data": {
      "text/plain": [
       "['경복궁', '남산서울타워', '제주도', '부산 해운대', '경주 불국사']"
      ]
     },
     "execution_count": 57,
     "metadata": {},
     "output_type": "execute_result"
    }
   ],
   "source": [
    "chain.invoke({\"subject\": \"대한민국 관광명소\"})"
   ]
  },
  {
   "cell_type": "markdown",
   "id": "95392087",
   "metadata": {},
   "source": [
    "<br>\n",
    "\n",
    "- 스트림 출력"
   ]
  },
  {
   "cell_type": "code",
   "execution_count": 59,
   "id": "efa5c16a",
   "metadata": {},
   "outputs": [
    {
     "name": "stdout",
     "output_type": "stream",
     "text": [
      "['경복궁']\n",
      "['남산서울타워']\n",
      "['제주도']\n",
      "['부산 해운대']\n",
      "['경주 불국사']\n"
     ]
    }
   ],
   "source": [
    "for s in chain.stream({\"subject\": \"대한민국 관광명소\"}):\n",
    "    print(s)"
   ]
  },
  {
   "cell_type": "markdown",
   "id": "249ab5d2",
   "metadata": {},
   "source": [
    "<br>\n",
    "\n",
    "<hr>\n",
    "\n",
    "<br>\n",
    "\n",
    "## 03-03. 구조화된 출력 파서(StructuredOuputParser)\n",
    "- `StructuredOutputParser`는 LLM에 대한 답변을 `dict` 형식으로 구성하고 **key/value 쌍으로 갖는 여러 필드를 반환하고자 할 때 사용**\n",
    "    \n",
    "    **Pydantic/JSON 파서가 더 강력하지만, 이는 덜 강력한 모델(예를 들어 로컬모델과 같은 인텔리전스가 GPT, Claude 모델보다 인텔리전스가 낮은(parameter 수가 낮은) 모델) 에 유용**\n",
    "\n",
    "    - 로컬 모델은 `Pydantic` 파서가 동작하지 않는 경우가 많으므로, 대안으로 `StructuredOutputParser` 를 사용할 수 있음\n",
    "\n",
    "\n",
    "\n"
   ]
  },
  {
   "cell_type": "code",
   "execution_count": 60,
   "id": "3170864d",
   "metadata": {},
   "outputs": [],
   "source": [
    "from langchain.output_parsers import ResponseSchema, StructuredOutputParser\n",
    "from langchain_core.prompts import PromptTemplate\n",
    "from langchain_openai import ChatOpenAI"
   ]
  },
  {
   "cell_type": "markdown",
   "id": "b560d783",
   "metadata": {},
   "source": [
    "- `ResponseSchema` 클래스를 사용하여 사용자의 질문에 대한 답변과 사용된 소스(웹사이트)에 대한 설명을 포함하는 응답 스키마를 정의\n",
    "- `StructuredOutputParser`를 `response_schemas`를 사용하여 초기화하여, 정의된 응답 스키마에 따라 출력을 구조화"
   ]
  },
  {
   "cell_type": "markdown",
   "id": "5ec3688a",
   "metadata": {},
   "source": [
    "<br>\n",
    "\n",
    "- 사용자의 질문에 대한 답변"
   ]
  },
  {
   "cell_type": "code",
   "execution_count": 61,
   "id": "8c35e74f",
   "metadata": {},
   "outputs": [],
   "source": [
    "response_schemas = [\n",
    "    ResponseSchema(\n",
    "        name=\"answer\", description=\"사용자의 질문에 대한 답변\"\n",
    "    ),\n",
    "    ResponseSchema(\n",
    "        name=\"source\",\n",
    "        description=\"사용자의 질문에 답하기 위해 사용된 `출처`, `웹사이트주소` 이여야 합니다.\",\n",
    "    ),\n",
    "]"
   ]
  },
  {
   "cell_type": "markdown",
   "id": "ef387f7f",
   "metadata": {},
   "source": [
    "- 응답 스키마를 기반으로 한 구조화된 출력 파서 "
   ]
  },
  {
   "cell_type": "code",
   "execution_count": 62,
   "id": "51cd2696",
   "metadata": {},
   "outputs": [],
   "source": [
    "output_parser = StructuredOutputParser.from_response_schemas(response_schemas)"
   ]
  },
  {
   "cell_type": "markdown",
   "id": "8b56abf3",
   "metadata": {},
   "source": [
    "- 출력 형식 지시사항을 파싱"
   ]
  },
  {
   "cell_type": "code",
   "execution_count": 64,
   "id": "c653898a",
   "metadata": {},
   "outputs": [],
   "source": [
    "format_instructions = output_parser.get_format_instructions()\n",
    "\n",
    "prompt = PromptTemplate(\n",
    "    template=\"answer the users question as best as possible.\\n{format_instructions}\\n{question}\",\n",
    "    input_variables=[\"question\"],\n",
    "    partial_variables={\"format_instructions\": format_instructions},\n",
    ")"
   ]
  },
  {
   "cell_type": "code",
   "execution_count": 65,
   "id": "98880653",
   "metadata": {},
   "outputs": [],
   "source": [
    "model = ChatOpenAI(temperature=0, model='gpt-4o-mini')\n",
    "chain = prompt | model | output_parser"
   ]
  },
  {
   "cell_type": "code",
   "execution_count": 66,
   "id": "8eac36b3",
   "metadata": {},
   "outputs": [
    {
     "data": {
      "text/plain": [
       "{'answer': '대한민국의 수도는 서울입니다.',\n",
       " 'source': 'https://ko.wikipedia.org/wiki/%EC%84%9C%EC%9A%B8'}"
      ]
     },
     "execution_count": 66,
     "metadata": {},
     "output_type": "execute_result"
    }
   ],
   "source": [
    "chain.invoke({\"question\": \"대한민국의 수도는 어디인가요?\"})"
   ]
  },
  {
   "cell_type": "markdown",
   "id": "00ed2da4",
   "metadata": {},
   "source": [
    "<br>\n",
    "\n",
    "- 스트리밍"
   ]
  },
  {
   "cell_type": "code",
   "execution_count": 67,
   "id": "0022214d",
   "metadata": {},
   "outputs": [
    {
     "name": "stdout",
     "output_type": "stream",
     "text": [
      "{'answer': '세종대왕은 한글을 창제하여 한국어의 표기 체계를 혁신하였고, 과학, 농업, 음악 등 다양한 분야에서 많은 업적을 남겼습니다. 또한, 백성을 위한 정책을 펼쳐 사회의 발전에 기여하였습니다.', 'source': 'https://ko.wikipedia.org/wiki/%EC%84%B8%EC%A2%85%EB%8C%80%EC%99%95'}\n"
     ]
    }
   ],
   "source": [
    "for s in chain.stream({\"question\": \"세종대왕의 업적은 무엇인가요?\"}):\n",
    "    print(s)"
   ]
  },
  {
   "cell_type": "markdown",
   "id": "7869ca5c",
   "metadata": {},
   "source": [
    "<br>\n",
    "\n",
    "<hr>\n",
    "\n",
    "<br>\n",
    "\n",
    "## 03-04. JSON 출력 파서(JsonOutputParser)\n",
    "\n",
    "<br>\n",
    "\n",
    "### JsonOutputParser\n",
    "- 이 출력 파서는 사용자가 원하는 JSON 스키마를 지정할 수 있게 해주며, 그 스키마에 맞게 LLM에서 데이터를 조회하여 결과를 도출\n",
    "  - LLM이 데이터를 정확하고 효율적으로 처리하여 원하는 형태의 JSON을 생성하기 위해서는, 모델의 용량이 충분해야 함\n"
   ]
  },
  {
   "cell_type": "code",
   "execution_count": null,
   "id": "cbf41c9c",
   "metadata": {},
   "outputs": [],
   "source": [
    "from langchain_core.prompts import ChatPromptTemplate\n",
    "from langchain_core.output_parsers import JsonOutputParser\n",
    "from pydantic import BaseModel, Field\n",
    "from langchain_openai import ChatOpenAI"
   ]
  },
  {
   "cell_type": "code",
   "execution_count": 69,
   "id": "fb71adbd",
   "metadata": {},
   "outputs": [],
   "source": [
    "model = ChatOpenAI(temperature=0, model_name=\"gpt-4o-mini\")"
   ]
  },
  {
   "cell_type": "markdown",
   "id": "07354778",
   "metadata": {},
   "source": [
    "- 출력 구조 정의"
   ]
  },
  {
   "cell_type": "code",
   "execution_count": 70,
   "id": "edeb83e6",
   "metadata": {},
   "outputs": [],
   "source": [
    "class Topic(BaseModel):\n",
    "    description: str = Field(description=\"주제에 대한 간결한 설명\")\n",
    "    hashtags: str = Field(description=\"해시태그 형식의 키워드(2개 이상)\")"
   ]
  },
  {
   "cell_type": "code",
   "execution_count": 71,
   "id": "6e0df209",
   "metadata": {},
   "outputs": [],
   "source": [
    "# 질의 작성\n",
    "question = \"지구 온난화의 심각성 대해 알려주세요.\"\n",
    "\n",
    "# 파서를 설정하고 프롬프트 템플릿에 지시사항을 주입\n",
    "parser = JsonOutputParser(pydantic_object=Topic)"
   ]
  },
  {
   "cell_type": "code",
   "execution_count": 72,
   "id": "099f4b2d",
   "metadata": {},
   "outputs": [],
   "source": [
    "prompt = ChatPromptTemplate.from_messages(\n",
    "    [\n",
    "        (\"system\", \"당신은 친절한 AI 어시스턴트 입니다. 질문에 간결하게 답변하세요.\"),\n",
    "        (\"user\", \"#Format: {format_instructions}\\n\\n#Question: {question}\"),\n",
    "    ]\n",
    ")"
   ]
  },
  {
   "cell_type": "code",
   "execution_count": 73,
   "id": "012d12f5",
   "metadata": {},
   "outputs": [
    {
     "data": {
      "text/plain": [
       "{'description': '지구 온난화는 기후 변화의 주요 원인으로, 생태계와 인류에 심각한 영향을 미치고 있습니다.',\n",
       " 'hashtags': '#지구온난화 #기후변화'}"
      ]
     },
     "execution_count": 73,
     "metadata": {},
     "output_type": "execute_result"
    }
   ],
   "source": [
    "prompt = prompt.partial(format_instructions=parser.get_format_instructions())\n",
    "chain = prompt | model | parser \n",
    "chain.invoke({\"question\": question}) "
   ]
  },
  {
   "cell_type": "markdown",
   "id": "2ecd55c5",
   "metadata": {},
   "source": [
    "<br>\n",
    "\n",
    "### `Pydantic` 없이 사용"
   ]
  },
  {
   "cell_type": "code",
   "execution_count": 74,
   "id": "3339f805",
   "metadata": {},
   "outputs": [],
   "source": [
    "question = \"지구 온난화에 대해 알려주세요. 온난화에 대한 설명은 `description`에, 관련 키워드는 `hashtags`에 담아주세요.\"\n",
    "\n",
    "parser = JsonOutputParser()\n",
    "\n",
    "prompt = ChatPromptTemplate.from_messages(\n",
    "    [\n",
    "        (\"system\", \"당신은 친절한 AI 어시스턴트 입니다. 질문에 간결하게 답변하세요.\"),\n",
    "        (\"user\", \"#Format: {format_instructions}\\n\\n#Question: {question}\"),\n",
    "    ]\n",
    ")"
   ]
  },
  {
   "cell_type": "code",
   "execution_count": 75,
   "id": "7b45a4e2",
   "metadata": {},
   "outputs": [
    {
     "name": "stdout",
     "output_type": "stream",
     "text": [
      "{'description': '지구 온난화는 지구의 평균 기온이 상승하는 현상으로, 주로 온실가스의 증가로 인해 발생합니다. 이로 인해 기후 변화, 해수면 상승, 생태계 변화 등의 문제가 발생할 수 있습니다.', 'hashtags': ['#지구온난화', '#기후변화', '#온실가스', '#환경문제', '#지구환경']}\n"
     ]
    }
   ],
   "source": [
    "prompt = prompt.partial(format_instructions=parser.get_format_instructions())\n",
    "chain = prompt | model | parser\n",
    "response = chain.invoke({\"question\": question})\n",
    "\n",
    "print(response)"
   ]
  },
  {
   "cell_type": "markdown",
   "id": "ce98d919",
   "metadata": {},
   "source": [
    "<br>\n",
    "\n",
    "## 03-05. 데이터프레임 출력 파서(PandasDataFrameOutputParser)\n",
    "\n",
    "<br>\n",
    "\n",
    "### `PandasDataFrameOutputParser`\n",
    "- `Pandas DataFrame`은 Python 프로그래밍 언어에서 널리 사용되는 데이터 구조로, 데이터 조작 및 분석을 위해 흔히 사용\n",
    "- 구조화된 데이터를 다루기 위한 포괄적인 도구 세트를 제공하여, 데이터 정제, 변환 및 분석과 같은 작업에 다양하게 활용\n"
   ]
  },
  {
   "cell_type": "code",
   "execution_count": 124,
   "id": "ac2f0ca4",
   "metadata": {},
   "outputs": [],
   "source": [
    "import pprint\n",
    "from typing import Any, Dict\n",
    "import difflib\n",
    "\n",
    "import pandas as pd\n",
    "from langchain.output_parsers import PandasDataFrameOutputParser\n",
    "from langchain_core.prompts import PromptTemplate\n",
    "from langchain_openai import ChatOpenAI"
   ]
  },
  {
   "cell_type": "code",
   "execution_count": 149,
   "id": "40c4eaca",
   "metadata": {},
   "outputs": [],
   "source": [
    "model = ChatOpenAI(temperature=0, model_name=\"gpt-3.5-turbo\")"
   ]
  },
  {
   "cell_type": "markdown",
   "id": "f2e288b7",
   "metadata": {},
   "source": [
    "- 파서 출력을 dict 형식으로 변환하고 출력 형식을 지정하는 함수"
   ]
  },
  {
   "cell_type": "code",
   "execution_count": 150,
   "id": "c9e4e985",
   "metadata": {},
   "outputs": [],
   "source": [
    "def format_parser_output(parser_output: Dict[str, Any]) -> None:\n",
    "    for key in parser_output.keys():\n",
    "        parser_output[key] = parser_output[key].to_dict()\n",
    "\n",
    "    return pprint.PrettyPrinter(width=4, compact=True).pprint(parser_output)"
   ]
  },
  {
   "cell_type": "markdown",
   "id": "1a82ff64",
   "metadata": {},
   "source": [
    "<br>\n",
    "\n",
    "- `PandasDataFrameOutputParser`를 사용하여 DataFrame을 파싱"
   ]
  },
  {
   "cell_type": "code",
   "execution_count": 151,
   "id": "bdeef6fa",
   "metadata": {},
   "outputs": [
    {
     "data": {
      "application/vnd.microsoft.datawrangler.viewer.v0+json": {
       "columns": [
        {
         "name": "index",
         "rawType": "int64",
         "type": "integer"
        },
        {
         "name": "Survived",
         "rawType": "int64",
         "type": "integer"
        },
        {
         "name": "Pclass",
         "rawType": "int64",
         "type": "integer"
        },
        {
         "name": "Name",
         "rawType": "object",
         "type": "string"
        },
        {
         "name": "Sex",
         "rawType": "object",
         "type": "string"
        },
        {
         "name": "Age",
         "rawType": "float64",
         "type": "float"
        },
        {
         "name": "Siblings/Spouses Aboard",
         "rawType": "int64",
         "type": "integer"
        },
        {
         "name": "Parents/Children Aboard",
         "rawType": "int64",
         "type": "integer"
        },
        {
         "name": "Fare",
         "rawType": "float64",
         "type": "float"
        }
       ],
       "ref": "656c79bd-60f2-489e-962f-a4dcffeb8f58",
       "rows": [
        [
         "0",
         "0",
         "3",
         "Mr. Owen Harris Braund",
         "male",
         "22.0",
         "1",
         "0",
         "7.25"
        ],
        [
         "1",
         "1",
         "1",
         "Mrs. John Bradley (Florence Briggs Thayer) Cumings",
         "female",
         "38.0",
         "1",
         "0",
         "71.2833"
        ],
        [
         "2",
         "1",
         "3",
         "Miss. Laina Heikkinen",
         "female",
         "26.0",
         "0",
         "0",
         "7.925"
        ],
        [
         "3",
         "1",
         "1",
         "Mrs. Jacques Heath (Lily May Peel) Futrelle",
         "female",
         "35.0",
         "1",
         "0",
         "53.1"
        ],
        [
         "4",
         "0",
         "3",
         "Mr. William Henry Allen",
         "male",
         "35.0",
         "0",
         "0",
         "8.05"
        ]
       ],
       "shape": {
        "columns": 8,
        "rows": 5
       }
      },
      "text/html": [
       "<div>\n",
       "<style scoped>\n",
       "    .dataframe tbody tr th:only-of-type {\n",
       "        vertical-align: middle;\n",
       "    }\n",
       "\n",
       "    .dataframe tbody tr th {\n",
       "        vertical-align: top;\n",
       "    }\n",
       "\n",
       "    .dataframe thead th {\n",
       "        text-align: right;\n",
       "    }\n",
       "</style>\n",
       "<table border=\"1\" class=\"dataframe\">\n",
       "  <thead>\n",
       "    <tr style=\"text-align: right;\">\n",
       "      <th></th>\n",
       "      <th>Survived</th>\n",
       "      <th>Pclass</th>\n",
       "      <th>Name</th>\n",
       "      <th>Sex</th>\n",
       "      <th>Age</th>\n",
       "      <th>Siblings/Spouses Aboard</th>\n",
       "      <th>Parents/Children Aboard</th>\n",
       "      <th>Fare</th>\n",
       "    </tr>\n",
       "  </thead>\n",
       "  <tbody>\n",
       "    <tr>\n",
       "      <th>0</th>\n",
       "      <td>0</td>\n",
       "      <td>3</td>\n",
       "      <td>Mr. Owen Harris Braund</td>\n",
       "      <td>male</td>\n",
       "      <td>22.0</td>\n",
       "      <td>1</td>\n",
       "      <td>0</td>\n",
       "      <td>7.2500</td>\n",
       "    </tr>\n",
       "    <tr>\n",
       "      <th>1</th>\n",
       "      <td>1</td>\n",
       "      <td>1</td>\n",
       "      <td>Mrs. John Bradley (Florence Briggs Thayer) Cum...</td>\n",
       "      <td>female</td>\n",
       "      <td>38.0</td>\n",
       "      <td>1</td>\n",
       "      <td>0</td>\n",
       "      <td>71.2833</td>\n",
       "    </tr>\n",
       "    <tr>\n",
       "      <th>2</th>\n",
       "      <td>1</td>\n",
       "      <td>3</td>\n",
       "      <td>Miss. Laina Heikkinen</td>\n",
       "      <td>female</td>\n",
       "      <td>26.0</td>\n",
       "      <td>0</td>\n",
       "      <td>0</td>\n",
       "      <td>7.9250</td>\n",
       "    </tr>\n",
       "    <tr>\n",
       "      <th>3</th>\n",
       "      <td>1</td>\n",
       "      <td>1</td>\n",
       "      <td>Mrs. Jacques Heath (Lily May Peel) Futrelle</td>\n",
       "      <td>female</td>\n",
       "      <td>35.0</td>\n",
       "      <td>1</td>\n",
       "      <td>0</td>\n",
       "      <td>53.1000</td>\n",
       "    </tr>\n",
       "    <tr>\n",
       "      <th>4</th>\n",
       "      <td>0</td>\n",
       "      <td>3</td>\n",
       "      <td>Mr. William Henry Allen</td>\n",
       "      <td>male</td>\n",
       "      <td>35.0</td>\n",
       "      <td>0</td>\n",
       "      <td>0</td>\n",
       "      <td>8.0500</td>\n",
       "    </tr>\n",
       "  </tbody>\n",
       "</table>\n",
       "</div>"
      ],
      "text/plain": [
       "   Survived  Pclass                                               Name  \\\n",
       "0         0       3                             Mr. Owen Harris Braund   \n",
       "1         1       1  Mrs. John Bradley (Florence Briggs Thayer) Cum...   \n",
       "2         1       3                              Miss. Laina Heikkinen   \n",
       "3         1       1        Mrs. Jacques Heath (Lily May Peel) Futrelle   \n",
       "4         0       3                            Mr. William Henry Allen   \n",
       "\n",
       "      Sex   Age  Siblings/Spouses Aboard  Parents/Children Aboard     Fare  \n",
       "0    male  22.0                        1                        0   7.2500  \n",
       "1  female  38.0                        1                        0  71.2833  \n",
       "2  female  26.0                        0                        0   7.9250  \n",
       "3  female  35.0                        1                        0  53.1000  \n",
       "4    male  35.0                        0                        0   8.0500  "
      ]
     },
     "execution_count": 151,
     "metadata": {},
     "output_type": "execute_result"
    }
   ],
   "source": [
    "df = pd.read_csv(\"./data/titanic.csv\")\n",
    "df.head()"
   ]
  },
  {
   "cell_type": "code",
   "execution_count": 152,
   "id": "1a6fe284",
   "metadata": {},
   "outputs": [
    {
     "name": "stdout",
     "output_type": "stream",
     "text": [
      "The output should be formatted as a string as the operation, followed by a colon, followed by the column or row to be queried on, followed by optional array parameters.\n",
      "1. The column names are limited to the possible columns below.\n",
      "2. Arrays must either be a comma-separated list of numbers formatted as [1,3,5], or it must be in range of numbers formatted as [0..4].\n",
      "3. Remember that arrays are optional and not necessarily required.\n",
      "4. If the column is not in the possible columns or the operation is not a valid Pandas DataFrame operation, return why it is invalid as a sentence starting with either \"Invalid column\" or \"Invalid operation\".\n",
      "\n",
      "As an example, for the formats:\n",
      "1. String \"column:num_legs\" is a well-formatted instance which gets the column num_legs, where num_legs is a possible column.\n",
      "2. String \"row:1\" is a well-formatted instance which gets row 1.\n",
      "3. String \"column:num_legs[1,2]\" is a well-formatted instance which gets the column num_legs for rows 1 and 2, where num_legs is a possible column.\n",
      "4. String \"row:1[num_legs]\" is a well-formatted instance which gets row 1, but for just column num_legs, where num_legs is a possible column.\n",
      "5. String \"mean:num_legs[1..3]\" is a well-formatted instance which takes the mean of num_legs from rows 1 to 3, where num_legs is a possible column and mean is a valid Pandas DataFrame operation.\n",
      "6. String \"do_something:num_legs\" is a badly-formatted instance, where do_something is not a valid Pandas DataFrame operation.\n",
      "7. String \"mean:invalid_col\" is a badly-formatted instance, where invalid_col is not a possible column.\n",
      "\n",
      "Here are the possible columns:\n",
      "```\n",
      "Survived, Pclass, Name, Sex, Age, Siblings/Spouses Aboard, Parents/Children Aboard, Fare\n",
      "```\n",
      "\n"
     ]
    }
   ],
   "source": [
    "parser = PandasDataFrameOutputParser(dataframe=df)\n",
    "print(parser.get_format_instructions())"
   ]
  },
  {
   "cell_type": "markdown",
   "id": "ee6be8c7",
   "metadata": {},
   "source": [
    "- 컬럼에 대한 값을 조회"
   ]
  },
  {
   "cell_type": "code",
   "execution_count": 153,
   "id": "1846047e",
   "metadata": {},
   "outputs": [],
   "source": [
    "df_query = \"Age column 을 조회해 주세요.\"\n",
    "\n",
    "prompt = PromptTemplate(\n",
    "    template=\"Answer the user query.\\n{format_instructions}\\n{query}\\n\",\n",
    "    input_variables=[\"query\"], \n",
    "    partial_variables={\n",
    "        \"format_instructions\": parser.get_format_instructions()\n",
    "    },\n",
    ")"
   ]
  },
  {
   "cell_type": "code",
   "execution_count": 154,
   "id": "d07b99e2",
   "metadata": {},
   "outputs": [],
   "source": [
    "llm_chain = prompt | model\n",
    "raw_output = llm_chain.invoke({\"query\": df_query})"
   ]
  },
  {
   "cell_type": "code",
   "execution_count": 156,
   "id": "725d7b91",
   "metadata": {},
   "outputs": [
    {
     "name": "stdout",
     "output_type": "stream",
     "text": [
      "{'Age': {0: 22.0,\n",
      "         1: 38.0,\n",
      "         2: 26.0,\n",
      "         3: 35.0,\n",
      "         4: 35.0,\n",
      "         5: 27.0,\n",
      "         6: 54.0,\n",
      "         7: 2.0,\n",
      "         8: 27.0,\n",
      "         9: 14.0,\n",
      "         10: 4.0,\n",
      "         11: 58.0,\n",
      "         12: 20.0,\n",
      "         13: 39.0,\n",
      "         14: 14.0,\n",
      "         15: 55.0,\n",
      "         16: 2.0,\n",
      "         17: 23.0,\n",
      "         18: 31.0,\n",
      "         19: 22.0,\n",
      "         20: 35.0,\n",
      "         21: 34.0,\n",
      "         22: 15.0,\n",
      "         23: 28.0,\n",
      "         24: 8.0,\n",
      "         25: 38.0,\n",
      "         26: 26.0,\n",
      "         27: 19.0,\n",
      "         28: 24.0,\n",
      "         29: 23.0,\n",
      "         30: 40.0,\n",
      "         31: 48.0,\n",
      "         32: 18.0,\n",
      "         33: 66.0,\n",
      "         34: 28.0,\n",
      "         35: 42.0,\n",
      "         36: 18.0,\n",
      "         37: 21.0,\n",
      "         38: 18.0,\n",
      "         39: 14.0,\n",
      "         40: 40.0,\n",
      "         41: 27.0,\n",
      "         42: 3.0,\n",
      "         43: 19.0,\n",
      "         44: 30.0,\n",
      "         45: 20.0,\n",
      "         46: 27.0,\n",
      "         47: 16.0,\n",
      "         48: 18.0,\n",
      "         49: 7.0,\n",
      "         50: 21.0,\n",
      "         51: 49.0,\n",
      "         52: 29.0,\n",
      "         53: 65.0,\n",
      "         54: 46.0,\n",
      "         55: 21.0,\n",
      "         56: 28.5,\n",
      "         57: 5.0,\n",
      "         58: 11.0,\n",
      "         59: 22.0,\n",
      "         60: 38.0,\n",
      "         61: 45.0,\n",
      "         62: 4.0,\n",
      "         63: 64.0,\n",
      "         64: 7.0,\n",
      "         65: 29.0,\n",
      "         66: 19.0,\n",
      "         67: 17.0,\n",
      "         68: 26.0,\n",
      "         69: 32.0,\n",
      "         70: 16.0,\n",
      "         71: 21.0,\n",
      "         72: 26.0,\n",
      "         73: 32.0,\n",
      "         74: 25.0,\n",
      "         75: 23.0,\n",
      "         76: 28.0,\n",
      "         77: 0.83,\n",
      "         78: 30.0,\n",
      "         79: 22.0,\n",
      "         80: 29.0,\n",
      "         81: 31.0,\n",
      "         82: 28.0,\n",
      "         83: 17.0,\n",
      "         84: 33.0,\n",
      "         85: 16.0,\n",
      "         86: 20.0,\n",
      "         87: 23.0,\n",
      "         88: 24.0,\n",
      "         89: 29.0,\n",
      "         90: 20.0,\n",
      "         91: 46.0,\n",
      "         92: 26.0,\n",
      "         93: 59.0,\n",
      "         94: 22.0,\n",
      "         95: 71.0,\n",
      "         96: 23.0,\n",
      "         97: 34.0,\n",
      "         98: 34.0,\n",
      "         99: 28.0,\n",
      "         100: 29.0,\n",
      "         101: 21.0,\n",
      "         102: 33.0,\n",
      "         103: 37.0,\n",
      "         104: 28.0,\n",
      "         105: 21.0,\n",
      "         106: 29.0,\n",
      "         107: 38.0,\n",
      "         108: 28.0,\n",
      "         109: 47.0,\n",
      "         110: 14.5,\n",
      "         111: 22.0,\n",
      "         112: 20.0,\n",
      "         113: 17.0,\n",
      "         114: 21.0,\n",
      "         115: 70.5,\n",
      "         116: 29.0,\n",
      "         117: 24.0,\n",
      "         118: 2.0,\n",
      "         119: 21.0,\n",
      "         120: 19.0,\n",
      "         121: 32.5,\n",
      "         122: 32.5,\n",
      "         123: 54.0,\n",
      "         124: 12.0,\n",
      "         125: 19.0,\n",
      "         126: 24.0,\n",
      "         127: 2.0,\n",
      "         128: 45.0,\n",
      "         129: 33.0,\n",
      "         130: 20.0,\n",
      "         131: 47.0,\n",
      "         132: 29.0,\n",
      "         133: 25.0,\n",
      "         134: 23.0,\n",
      "         135: 19.0,\n",
      "         136: 37.0,\n",
      "         137: 16.0,\n",
      "         138: 24.0,\n",
      "         139: 40.0,\n",
      "         140: 22.0,\n",
      "         141: 24.0,\n",
      "         142: 19.0,\n",
      "         143: 18.0,\n",
      "         144: 19.0,\n",
      "         145: 27.0,\n",
      "         146: 9.0,\n",
      "         147: 36.5,\n",
      "         148: 42.0,\n",
      "         149: 51.0,\n",
      "         150: 22.0,\n",
      "         151: 55.5,\n",
      "         152: 40.5,\n",
      "         153: 27.0,\n",
      "         154: 51.0,\n",
      "         155: 16.0,\n",
      "         156: 30.0,\n",
      "         157: 37.0,\n",
      "         158: 5.0,\n",
      "         159: 44.0,\n",
      "         160: 40.0,\n",
      "         161: 26.0,\n",
      "         162: 17.0,\n",
      "         163: 1.0,\n",
      "         164: 9.0,\n",
      "         165: 48.0,\n",
      "         166: 45.0,\n",
      "         167: 60.0,\n",
      "         168: 28.0,\n",
      "         169: 61.0,\n",
      "         170: 4.0,\n",
      "         171: 1.0,\n",
      "         172: 21.0,\n",
      "         173: 56.0,\n",
      "         174: 18.0,\n",
      "         175: 5.0,\n",
      "         176: 50.0,\n",
      "         177: 30.0,\n",
      "         178: 36.0,\n",
      "         179: 8.0,\n",
      "         180: 39.0,\n",
      "         181: 9.0,\n",
      "         182: 1.0,\n",
      "         183: 4.0,\n",
      "         184: 39.0,\n",
      "         185: 26.0,\n",
      "         186: 45.0,\n",
      "         187: 40.0,\n",
      "         188: 36.0,\n",
      "         189: 32.0,\n",
      "         190: 19.0,\n",
      "         191: 19.0,\n",
      "         192: 3.0,\n",
      "         193: 44.0,\n",
      "         194: 58.0,\n",
      "         195: 28.0,\n",
      "         196: 42.0,\n",
      "         197: 21.0,\n",
      "         198: 24.0,\n",
      "         199: 28.0,\n",
      "         200: 17.0,\n",
      "         201: 34.0,\n",
      "         202: 45.5,\n",
      "         203: 18.0,\n",
      "         204: 2.0,\n",
      "         205: 32.0,\n",
      "         206: 26.0,\n",
      "         207: 16.0,\n",
      "         208: 40.0,\n",
      "         209: 24.0,\n",
      "         210: 35.0,\n",
      "         211: 22.0,\n",
      "         212: 30.0,\n",
      "         213: 22.0,\n",
      "         214: 31.0,\n",
      "         215: 27.0,\n",
      "         216: 42.0,\n",
      "         217: 32.0,\n",
      "         218: 30.0,\n",
      "         219: 16.0,\n",
      "         220: 27.0,\n",
      "         221: 51.0,\n",
      "         222: 22.0,\n",
      "         223: 38.0,\n",
      "         224: 22.0,\n",
      "         225: 19.0,\n",
      "         226: 20.5,\n",
      "         227: 18.0,\n",
      "         228: 12.0,\n",
      "         229: 35.0,\n",
      "         230: 29.0,\n",
      "         231: 59.0,\n",
      "         232: 5.0,\n",
      "         233: 24.0,\n",
      "         234: 21.0,\n",
      "         235: 44.0,\n",
      "         236: 8.0,\n",
      "         237: 19.0,\n",
      "         238: 33.0,\n",
      "         239: 19.0,\n",
      "         240: 18.0,\n",
      "         241: 29.0,\n",
      "         242: 22.0,\n",
      "         243: 30.0,\n",
      "         244: 44.0,\n",
      "         245: 25.0,\n",
      "         246: 24.0,\n",
      "         247: 37.0,\n",
      "         248: 54.0,\n",
      "         249: 18.0,\n",
      "         250: 29.0,\n",
      "         251: 62.0,\n",
      "         252: 30.0,\n",
      "         253: 41.0,\n",
      "         254: 29.0,\n",
      "         255: 38.0,\n",
      "         256: 30.0,\n",
      "         257: 35.0,\n",
      "         258: 50.0,\n",
      "         259: 3.0,\n",
      "         260: 52.0,\n",
      "         261: 40.0,\n",
      "         262: 21.0,\n",
      "         263: 36.0,\n",
      "         264: 16.0,\n",
      "         265: 25.0,\n",
      "         266: 58.0,\n",
      "         267: 35.0,\n",
      "         268: 28.0,\n",
      "         269: 25.0,\n",
      "         270: 41.0,\n",
      "         271: 37.0,\n",
      "         272: 33.0,\n",
      "         273: 63.0,\n",
      "         274: 45.0,\n",
      "         275: 21.0,\n",
      "         276: 7.0,\n",
      "         277: 35.0,\n",
      "         278: 65.0,\n",
      "         279: 28.0,\n",
      "         280: 16.0,\n",
      "         281: 19.0,\n",
      "         282: 57.0,\n",
      "         283: 33.0,\n",
      "         284: 30.0,\n",
      "         285: 22.0,\n",
      "         286: 42.0,\n",
      "         287: 22.0,\n",
      "         288: 26.0,\n",
      "         289: 19.0,\n",
      "         290: 36.0,\n",
      "         291: 24.0,\n",
      "         292: 24.0,\n",
      "         293: 30.0,\n",
      "         294: 23.5,\n",
      "         295: 2.0,\n",
      "         296: 47.0,\n",
      "         297: 50.0,\n",
      "         298: 20.0,\n",
      "         299: 24.0,\n",
      "         300: 19.0,\n",
      "         301: 46.0,\n",
      "         302: 28.0,\n",
      "         303: 0.92,\n",
      "         304: 42.0,\n",
      "         305: 17.0,\n",
      "         306: 30.0,\n",
      "         307: 30.0,\n",
      "         308: 24.0,\n",
      "         309: 18.0,\n",
      "         310: 26.0,\n",
      "         311: 28.0,\n",
      "         312: 43.0,\n",
      "         313: 26.0,\n",
      "         314: 24.0,\n",
      "         315: 54.0,\n",
      "         316: 31.0,\n",
      "         317: 40.0,\n",
      "         318: 22.0,\n",
      "         319: 27.0,\n",
      "         320: 30.0,\n",
      "         321: 22.0,\n",
      "         322: 20.0,\n",
      "         323: 36.0,\n",
      "         324: 61.0,\n",
      "         325: 36.0,\n",
      "         326: 31.0,\n",
      "         327: 16.0,\n",
      "         328: 28.0,\n",
      "         329: 45.5,\n",
      "         330: 38.0,\n",
      "         331: 16.0,\n",
      "         332: 42.0,\n",
      "         333: 30.0,\n",
      "         334: 29.0,\n",
      "         335: 41.0,\n",
      "         336: 45.0,\n",
      "         337: 45.0,\n",
      "         338: 2.0,\n",
      "         339: 24.0,\n",
      "         340: 28.0,\n",
      "         341: 25.0,\n",
      "         342: 36.0,\n",
      "         343: 24.0,\n",
      "         344: 40.0,\n",
      "         345: 34.0,\n",
      "         346: 3.0,\n",
      "         347: 42.0,\n",
      "         348: 23.0,\n",
      "         349: 43.0,\n",
      "         350: 15.0,\n",
      "         351: 25.0,\n",
      "         352: 23.0,\n",
      "         353: 28.0,\n",
      "         354: 22.0,\n",
      "         355: 38.0,\n",
      "         356: 22.0,\n",
      "         357: 23.0,\n",
      "         358: 40.0,\n",
      "         359: 29.0,\n",
      "         360: 45.0,\n",
      "         361: 35.0,\n",
      "         362: 27.0,\n",
      "         363: 30.0,\n",
      "         364: 60.0,\n",
      "         365: 35.0,\n",
      "         366: 22.0,\n",
      "         367: 24.0,\n",
      "         368: 25.0,\n",
      "         369: 18.0,\n",
      "         370: 19.0,\n",
      "         371: 22.0,\n",
      "         372: 3.0,\n",
      "         373: 25.0,\n",
      "         374: 22.0,\n",
      "         375: 27.0,\n",
      "         376: 20.0,\n",
      "         377: 19.0,\n",
      "         378: 42.0,\n",
      "         379: 1.0,\n",
      "         380: 32.0,\n",
      "         381: 35.0,\n",
      "         382: 27.0,\n",
      "         383: 18.0,\n",
      "         384: 1.0,\n",
      "         385: 36.0,\n",
      "         386: 19.0,\n",
      "         387: 17.0,\n",
      "         388: 36.0,\n",
      "         389: 21.0,\n",
      "         390: 28.0,\n",
      "         391: 23.0,\n",
      "         392: 24.0,\n",
      "         393: 22.0,\n",
      "         394: 31.0,\n",
      "         395: 46.0,\n",
      "         396: 23.0,\n",
      "         397: 28.0,\n",
      "         398: 39.0,\n",
      "         399: 26.0,\n",
      "         400: 21.0,\n",
      "         401: 28.0,\n",
      "         402: 20.0,\n",
      "         403: 34.0,\n",
      "         404: 51.0,\n",
      "         405: 3.0,\n",
      "         406: 21.0,\n",
      "         407: 3.0,\n",
      "         408: 42.0,\n",
      "         409: 27.0,\n",
      "         410: 33.0,\n",
      "         411: 22.0,\n",
      "         412: 44.0,\n",
      "         413: 32.0,\n",
      "         414: 34.0,\n",
      "         415: 18.0,\n",
      "         416: 30.0,\n",
      "         417: 10.0,\n",
      "         418: 21.0,\n",
      "         419: 29.0,\n",
      "         420: 28.0,\n",
      "         421: 18.0,\n",
      "         422: 54.0,\n",
      "         423: 28.0,\n",
      "         424: 19.0,\n",
      "         425: 28.0,\n",
      "         426: 32.0,\n",
      "         427: 28.0,\n",
      "         428: 33.0,\n",
      "         429: 42.0,\n",
      "         430: 17.0,\n",
      "         431: 50.0,\n",
      "         432: 14.0,\n",
      "         433: 21.0,\n",
      "         434: 24.0,\n",
      "         435: 64.0,\n",
      "         436: 31.0,\n",
      "         437: 45.0,\n",
      "         438: 20.0,\n",
      "         439: 25.0,\n",
      "         440: 28.0,\n",
      "         441: 29.0,\n",
      "         442: 4.0,\n",
      "         443: 13.0,\n",
      "         444: 34.0,\n",
      "         445: 5.0,\n",
      "         446: 52.0,\n",
      "         447: 36.0,\n",
      "         448: 28.0,\n",
      "         449: 30.0,\n",
      "         450: 49.0,\n",
      "         451: 24.0,\n",
      "         452: 29.0,\n",
      "         453: 65.0,\n",
      "         454: 41.0,\n",
      "         455: 50.0,\n",
      "         456: 17.0,\n",
      "         457: 48.0,\n",
      "         458: 34.0,\n",
      "         459: 47.0,\n",
      "         460: 48.0,\n",
      "         461: 34.0,\n",
      "         462: 38.0,\n",
      "         463: 21.0,\n",
      "         464: 56.0,\n",
      "         465: 22.0,\n",
      "         466: 0.75,\n",
      "         467: 39.0,\n",
      "         468: 38.0,\n",
      "         469: 33.0,\n",
      "         470: 23.0,\n",
      "         471: 22.0,\n",
      "         472: 40.0,\n",
      "         473: 34.0,\n",
      "         474: 29.0,\n",
      "         475: 22.0,\n",
      "         476: 2.0,\n",
      "         477: 9.0,\n",
      "         478: 37.0,\n",
      "         479: 50.0,\n",
      "         480: 63.0,\n",
      "         481: 25.0,\n",
      "         482: 8.0,\n",
      "         483: 35.0,\n",
      "         484: 58.0,\n",
      "         485: 30.0,\n",
      "         486: 9.0,\n",
      "         487: 19.0,\n",
      "         488: 21.0,\n",
      "         489: 55.0,\n",
      "         490: 71.0,\n",
      "         491: 21.0,\n",
      "         492: 26.0,\n",
      "         493: 54.0,\n",
      "         494: 55.0,\n",
      "         495: 25.0,\n",
      "         496: 24.0,\n",
      "         497: 17.0,\n",
      "         498: 21.0,\n",
      "         499: 21.0,\n",
      "         500: 37.0,\n",
      "         501: 16.0,\n",
      "         502: 18.0,\n",
      "         503: 33.0,\n",
      "         504: 37.0,\n",
      "         505: 28.0,\n",
      "         506: 26.0,\n",
      "         507: 29.0,\n",
      "         508: 66.0,\n",
      "         509: 36.0,\n",
      "         510: 54.0,\n",
      "         511: 24.0,\n",
      "         512: 47.0,\n",
      "         513: 34.0,\n",
      "         514: 30.0,\n",
      "         515: 36.0,\n",
      "         516: 32.0,\n",
      "         517: 30.0,\n",
      "         518: 22.0,\n",
      "         519: 35.0,\n",
      "         520: 44.0,\n",
      "         521: 18.0,\n",
      "         522: 40.5,\n",
      "         523: 50.0,\n",
      "         524: 49.0,\n",
      "         525: 39.0,\n",
      "         526: 23.0,\n",
      "         527: 2.0,\n",
      "         528: 17.0,\n",
      "         529: 17.0,\n",
      "         530: 24.0,\n",
      "         531: 30.0,\n",
      "         532: 7.0,\n",
      "         533: 45.0,\n",
      "         534: 30.0,\n",
      "         535: 69.0,\n",
      "         536: 22.0,\n",
      "         537: 36.0,\n",
      "         538: 9.0,\n",
      "         539: 11.0,\n",
      "         540: 32.0,\n",
      "         541: 50.0,\n",
      "         542: 64.0,\n",
      "         543: 19.0,\n",
      "         544: 27.0,\n",
      "         545: 33.0,\n",
      "         546: 8.0,\n",
      "         547: 17.0,\n",
      "         548: 27.0,\n",
      "         549: 21.0,\n",
      "         550: 22.0,\n",
      "         551: 22.0,\n",
      "         552: 62.0,\n",
      "         553: 48.0,\n",
      "         554: 45.0,\n",
      "         555: 39.0,\n",
      "         556: 36.0,\n",
      "         557: 30.0,\n",
      "         558: 40.0,\n",
      "         559: 28.0,\n",
      "         560: 40.0,\n",
      "         561: 62.0,\n",
      "         562: 24.0,\n",
      "         563: 19.0,\n",
      "         564: 29.0,\n",
      "         565: 28.0,\n",
      "         566: 32.0,\n",
      "         567: 62.0,\n",
      "         568: 53.0,\n",
      "         569: 36.0,\n",
      "         570: 22.0,\n",
      "         571: 16.0,\n",
      "         572: 19.0,\n",
      "         573: 34.0,\n",
      "         574: 39.0,\n",
      "         575: 18.0,\n",
      "         576: 32.0,\n",
      "         577: 25.0,\n",
      "         578: 39.0,\n",
      "         579: 54.0,\n",
      "         580: 36.0,\n",
      "         581: 16.0,\n",
      "         582: 18.0,\n",
      "         583: 47.0,\n",
      "         584: 60.0,\n",
      "         585: 22.0,\n",
      "         586: 22.0,\n",
      "         587: 35.0,\n",
      "         588: 52.0,\n",
      "         589: 47.0,\n",
      "         590: 40.0,\n",
      "         591: 37.0,\n",
      "         592: 36.0,\n",
      "         593: 31.0,\n",
      "         594: 49.0,\n",
      "         595: 18.0,\n",
      "         596: 49.0,\n",
      "         597: 24.0,\n",
      "         598: 42.0,\n",
      "         599: 37.0,\n",
      "         600: 44.0,\n",
      "         601: 35.0,\n",
      "         602: 36.0,\n",
      "         603: 30.0,\n",
      "         604: 27.0,\n",
      "         605: 22.0,\n",
      "         606: 40.0,\n",
      "         607: 39.0,\n",
      "         608: 21.0,\n",
      "         609: 18.0,\n",
      "         610: 22.0,\n",
      "         611: 35.0,\n",
      "         612: 24.0,\n",
      "         613: 34.0,\n",
      "         614: 26.0,\n",
      "         615: 4.0,\n",
      "         616: 26.0,\n",
      "         617: 27.0,\n",
      "         618: 42.0,\n",
      "         619: 20.0,\n",
      "         620: 21.0,\n",
      "         621: 21.0,\n",
      "         622: 61.0,\n",
      "         623: 57.0,\n",
      "         624: 21.0,\n",
      "         625: 26.0,\n",
      "         626: 18.0,\n",
      "         627: 80.0,\n",
      "         628: 51.0,\n",
      "         629: 32.0,\n",
      "         630: 30.0,\n",
      "         631: 9.0,\n",
      "         632: 28.0,\n",
      "         633: 32.0,\n",
      "         634: 31.0,\n",
      "         635: 41.0,\n",
      "         636: 37.0,\n",
      "         637: 20.0,\n",
      "         638: 24.0,\n",
      "         639: 2.0,\n",
      "         640: 32.0,\n",
      "         641: 0.75,\n",
      "         642: 48.0,\n",
      "         643: 19.0,\n",
      "         644: 56.0,\n",
      "         645: 21.0,\n",
      "         646: 23.0,\n",
      "         647: 23.0,\n",
      "         648: 18.0,\n",
      "         649: 21.0,\n",
      "         650: 16.0,\n",
      "         651: 18.0,\n",
      "         652: 24.0,\n",
      "         653: 27.0,\n",
      "         654: 32.0,\n",
      "         655: 23.0,\n",
      "         656: 58.0,\n",
      "         657: 50.0,\n",
      "         658: 40.0,\n",
      "         659: 47.0,\n",
      "         660: 36.0,\n",
      "         661: 20.0,\n",
      "         662: 32.0,\n",
      "         663: 25.0,\n",
      "         664: 49.0,\n",
      "         665: 43.0,\n",
      "         666: 48.0,\n",
      "         667: 40.0,\n",
      "         668: 31.0,\n",
      "         669: 70.0,\n",
      "         670: 31.0,\n",
      "         671: 19.0,\n",
      "         672: 18.0,\n",
      "         673: 24.5,\n",
      "         674: 18.0,\n",
      "         675: 43.0,\n",
      "         676: 36.0,\n",
      "         677: 28.0,\n",
      "         678: 27.0,\n",
      "         679: 20.0,\n",
      "         680: 14.0,\n",
      "         681: 60.0,\n",
      "         682: 25.0,\n",
      "         683: 14.0,\n",
      "         684: 19.0,\n",
      "         685: 18.0,\n",
      "         686: 15.0,\n",
      "         687: 31.0,\n",
      "         688: 4.0,\n",
      "         689: 37.0,\n",
      "         690: 25.0,\n",
      "         691: 60.0,\n",
      "         692: 52.0,\n",
      "         693: 44.0,\n",
      "         694: 19.0,\n",
      "         695: 49.0,\n",
      "         696: 42.0,\n",
      "         697: 18.0,\n",
      "         698: 35.0,\n",
      "         699: 18.0,\n",
      "         700: 25.0,\n",
      "         701: 26.0,\n",
      "         702: 39.0,\n",
      "         703: 45.0,\n",
      "         704: 42.0,\n",
      "         705: 22.0,\n",
      "         706: 4.0,\n",
      "         707: 24.0,\n",
      "         708: 41.0,\n",
      "         709: 48.0,\n",
      "         710: 29.0,\n",
      "         711: 52.0,\n",
      "         712: 19.0,\n",
      "         713: 38.0,\n",
      "         714: 27.0,\n",
      "         715: 33.0,\n",
      "         716: 6.0,\n",
      "         717: 17.0,\n",
      "         718: 34.0,\n",
      "         719: 50.0,\n",
      "         720: 27.0,\n",
      "         721: 20.0,\n",
      "         722: 30.0,\n",
      "         723: 28.0,\n",
      "         724: 25.0,\n",
      "         725: 25.0,\n",
      "         726: 29.0,\n",
      "         727: 11.0,\n",
      "         728: 41.0,\n",
      "         729: 23.0,\n",
      "         730: 23.0,\n",
      "         731: 28.5,\n",
      "         732: 48.0,\n",
      "         733: 35.0,\n",
      "         734: 20.0,\n",
      "         735: 32.0,\n",
      "         736: 45.0,\n",
      "         737: 36.0,\n",
      "         738: 21.0,\n",
      "         739: 24.0,\n",
      "         740: 31.0,\n",
      "         741: 70.0,\n",
      "         742: 16.0,\n",
      "         743: 30.0,\n",
      "         744: 19.0,\n",
      "         745: 31.0,\n",
      "         746: 4.0,\n",
      "         747: 6.0,\n",
      "         748: 33.0,\n",
      "         749: 23.0,\n",
      "         750: 48.0,\n",
      "         751: 0.67,\n",
      "         752: 28.0,\n",
      "         753: 18.0,\n",
      "         754: 34.0,\n",
      "         755: 33.0,\n",
      "         756: 23.0,\n",
      "         757: 41.0,\n",
      "         758: 20.0,\n",
      "         759: 36.0,\n",
      "         760: 16.0,\n",
      "         761: 51.0,\n",
      "         762: 46.0,\n",
      "         763: 30.5,\n",
      "         764: 28.0,\n",
      "         765: 32.0,\n",
      "         766: 24.0,\n",
      "         767: 48.0,\n",
      "         768: 57.0,\n",
      "         769: 29.0,\n",
      "         770: 54.0,\n",
      "         771: 18.0,\n",
      "         772: 20.0,\n",
      "         773: 5.0,\n",
      "         774: 22.0,\n",
      "         775: 43.0,\n",
      "         776: 13.0,\n",
      "         777: 17.0,\n",
      "         778: 29.0,\n",
      "         779: 35.0,\n",
      "         780: 25.0,\n",
      "         781: 25.0,\n",
      "         782: 18.0,\n",
      "         783: 8.0,\n",
      "         784: 1.0,\n",
      "         785: 46.0,\n",
      "         786: 20.0,\n",
      "         787: 16.0,\n",
      "         788: 21.0,\n",
      "         789: 43.0,\n",
      "         790: 25.0,\n",
      "         791: 39.0,\n",
      "         792: 49.0,\n",
      "         793: 31.0,\n",
      "         794: 30.0,\n",
      "         795: 30.0,\n",
      "         796: 34.0,\n",
      "         797: 31.0,\n",
      "         798: 11.0,\n",
      "         799: 0.42,\n",
      "         800: 27.0,\n",
      "         801: 31.0,\n",
      "         802: 39.0,\n",
      "         803: 18.0,\n",
      "         804: 39.0,\n",
      "         805: 33.0,\n",
      "         806: 26.0,\n",
      "         807: 39.0,\n",
      "         808: 35.0,\n",
      "         809: 6.0,\n",
      "         810: 30.5,\n",
      "         811: 39.0,\n",
      "         812: 23.0,\n",
      "         813: 31.0,\n",
      "         814: 43.0,\n",
      "         815: 10.0,\n",
      "         816: 52.0,\n",
      "         817: 27.0,\n",
      "         818: 38.0,\n",
      "         819: 27.0,\n",
      "         820: 2.0,\n",
      "         821: 36.0,\n",
      "         822: 23.0,\n",
      "         823: 1.0,\n",
      "         824: 19.0,\n",
      "         825: 62.0,\n",
      "         826: 15.0,\n",
      "         827: 0.83,\n",
      "         828: 30.0,\n",
      "         829: 23.0,\n",
      "         830: 18.0,\n",
      "         831: 39.0,\n",
      "         832: 21.0,\n",
      "         833: 20.0,\n",
      "         834: 32.0,\n",
      "         835: 29.0,\n",
      "         836: 20.0,\n",
      "         837: 16.0,\n",
      "         838: 30.0,\n",
      "         839: 34.5,\n",
      "         840: 17.0,\n",
      "         841: 42.0,\n",
      "         842: 18.0,\n",
      "         843: 35.0,\n",
      "         844: 28.0,\n",
      "         845: 40.0,\n",
      "         846: 4.0,\n",
      "         847: 74.0,\n",
      "         848: 9.0,\n",
      "         849: 16.0,\n",
      "         850: 44.0,\n",
      "         851: 18.0,\n",
      "         852: 45.0,\n",
      "         853: 51.0,\n",
      "         854: 24.0,\n",
      "         855: 30.0,\n",
      "         856: 41.0,\n",
      "         857: 21.0,\n",
      "         858: 48.0,\n",
      "         859: 14.0,\n",
      "         860: 24.0,\n",
      "         861: 42.0,\n",
      "         862: 27.0,\n",
      "         863: 31.0,\n",
      "         864: 23.0,\n",
      "         865: 4.0,\n",
      "         866: 26.0,\n",
      "         867: 47.0,\n",
      "         868: 33.0,\n",
      "         869: 47.0,\n",
      "         870: 28.0,\n",
      "         871: 15.0,\n",
      "         872: 20.0,\n",
      "         873: 19.0,\n",
      "         874: 23.0,\n",
      "         875: 56.0,\n",
      "         876: 25.0,\n",
      "         877: 33.0,\n",
      "         878: 22.0,\n",
      "         879: 28.0,\n",
      "         880: 25.0,\n",
      "         881: 39.0,\n",
      "         882: 27.0,\n",
      "         883: 19.0,\n",
      "         884: 7.0,\n",
      "         885: 26.0,\n",
      "         886: 32.0}}\n"
     ]
    }
   ],
   "source": [
    "chain = prompt | model | parser\n",
    "parser_output = chain.invoke({\"query\": df_query})\n",
    "\n",
    "format_parser_output(parser_output)"
   ]
  },
  {
   "cell_type": "markdown",
   "id": "e57fec9b",
   "metadata": {},
   "source": [
    "<br>\n",
    "\n",
    "- 특정 열에서 일부 행의 평균을 검색"
   ]
  },
  {
   "cell_type": "code",
   "execution_count": 157,
   "id": "b89244a5",
   "metadata": {},
   "outputs": [
    {
     "name": "stdout",
     "output_type": "stream",
     "text": [
      "{'mean': 31.2}\n"
     ]
    }
   ],
   "source": [
    "df_query = \"Retrieve the average of the Ages from row 0 to 4.\"\n",
    "\n",
    "parser_output = chain.invoke({\"query\": df_query})\n",
    "\n",
    "print(parser_output)"
   ]
  },
  {
   "cell_type": "markdown",
   "id": "beee06b1",
   "metadata": {},
   "source": [
    "<br>\n",
    "\n",
    "<hr>\n",
    "\n",
    "<br>\n",
    "\n",
    "## 03-06. 날짜 형식 출력 파서(DatetimeOutputParser)\n",
    "\n",
    "<br>\n",
    "\n",
    "### `DatetimeOutputParser`\n",
    "\n",
    "<table>\n",
    "<thead>\n",
    "<tr>\n",
    "<th>형식 코드</th>\n",
    "<th>설명</th>\n",
    "<th>예시</th>\n",
    "</tr>\n",
    "</thead>\n",
    "<tbody>\n",
    "<tr>\n",
    "<td>%Y</td>\n",
    "<td>4자리 연도</td>\n",
    "<td>2024</td>\n",
    "</tr>\n",
    "<tr>\n",
    "<td>%y</td>\n",
    "<td>2자리 연도</td>\n",
    "<td>24</td>\n",
    "</tr>\n",
    "<tr>\n",
    "<td>%m</td>\n",
    "<td>2자리 월</td>\n",
    "<td>07</td>\n",
    "</tr>\n",
    "<tr>\n",
    "<td>%d</td>\n",
    "<td>2자리 일</td>\n",
    "<td>04</td>\n",
    "</tr>\n",
    "<tr>\n",
    "<td>%H</td>\n",
    "<td>24시간제 시간</td>\n",
    "<td>14</td>\n",
    "</tr>\n",
    "<tr>\n",
    "<td>%I</td>\n",
    "<td>12시간제 시간</td>\n",
    "<td>02</td>\n",
    "</tr>\n",
    "<tr>\n",
    "<td>%p</td>\n",
    "<td>AM 또는 PM</td>\n",
    "<td>PM</td>\n",
    "</tr>\n",
    "<tr>\n",
    "<td>%M</td>\n",
    "<td>2자리 분</td>\n",
    "<td>45</td>\n",
    "</tr>\n",
    "<tr>\n",
    "<td>%S</td>\n",
    "<td>2자리 초</td>\n",
    "<td>08</td>\n",
    "</tr>\n",
    "<tr>\n",
    "<td>%f</td>\n",
    "<td>마이크로초 (6자리)</td>\n",
    "<td>000123</td>\n",
    "</tr>\n",
    "<tr>\n",
    "<td>%z</td>\n",
    "<td>UTC 오프셋</td>\n",
    "<td>+0900</td>\n",
    "</tr>\n",
    "<tr>\n",
    "<td>%Z</td>\n",
    "<td>시간대 이름</td>\n",
    "<td>KST</td>\n",
    "</tr>\n",
    "<tr>\n",
    "<td>%a</td>\n",
    "<td>요일 약어</td>\n",
    "<td>Thu</td>\n",
    "</tr>\n",
    "<tr>\n",
    "<td>%A</td>\n",
    "<td>요일 전체</td>\n",
    "<td>Thursday</td>\n",
    "</tr>\n",
    "<tr>\n",
    "<td>%b</td>\n",
    "<td>월 약어</td>\n",
    "<td>Jul</td>\n",
    "</tr>\n",
    "<tr>\n",
    "<td>%B</td>\n",
    "<td>월 전체</td>\n",
    "<td>July</td>\n",
    "</tr>\n",
    "<tr>\n",
    "<td>%c</td>\n",
    "<td>전체 날짜와 시간</td>\n",
    "<td>Thu Jul  4 14:45:08 2024</td>\n",
    "</tr>\n",
    "<tr>\n",
    "<td>%x</td>\n",
    "<td>전체 날짜</td>\n",
    "<td>07/04/24</td>\n",
    "</tr>\n",
    "<tr>\n",
    "<td>%X</td>\n",
    "<td>전체 시간</td>\n",
    "<td>14:45:08</td>\n",
    "</tr>\n",
    "</tbody>\n",
    "</table>"
   ]
  },
  {
   "cell_type": "code",
   "execution_count": null,
   "id": "12262c60",
   "metadata": {},
   "outputs": [],
   "source": [
    "from langchain.output_parsers import DatetimeOutputParser\n",
    "from langchain.prompts import PromptTemplate\n",
    "from langchain_openai import ChatOpenAI"
   ]
  },
  {
   "cell_type": "code",
   "execution_count": 159,
   "id": "52c780be",
   "metadata": {},
   "outputs": [],
   "source": [
    "output_parser = DatetimeOutputParser()\n",
    "output_parser.format = \"%Y-%m-%d\""
   ]
  },
  {
   "cell_type": "markdown",
   "id": "502c1a2f",
   "metadata": {},
   "source": [
    "- 답변 템플릿"
   ]
  },
  {
   "cell_type": "code",
   "execution_count": 160,
   "id": "e36dcbe3",
   "metadata": {},
   "outputs": [],
   "source": [
    "template = \"\"\"Answer the users question:\\n\\n#Format Instructions: \\n{format_instructions}\\n\\n#Question: \\n{question}\\n\\n#Answer:\"\"\""
   ]
  },
  {
   "cell_type": "code",
   "execution_count": 162,
   "id": "e2ba42cd",
   "metadata": {},
   "outputs": [
    {
     "data": {
      "text/plain": [
       "PromptTemplate(input_variables=['question'], input_types={}, partial_variables={'format_instructions': \"Write a datetime string that matches the following pattern: '%Y-%m-%d'.\\n\\nExamples: 2025-10-02, 2024-10-02, 2025-10-01\\n\\nReturn ONLY this string, no other words!\"}, template='Answer the users question:\\n\\n#Format Instructions: \\n{format_instructions}\\n\\n#Question: \\n{question}\\n\\n#Answer:')"
      ]
     },
     "execution_count": 162,
     "metadata": {},
     "output_type": "execute_result"
    }
   ],
   "source": [
    "prompt = PromptTemplate.from_template(\n",
    "    template,\n",
    "    partial_variables={\n",
    "        \"format_instructions\": output_parser.get_format_instructions()\n",
    "    }, \n",
    ")\n",
    "\n",
    "prompt"
   ]
  },
  {
   "cell_type": "code",
   "execution_count": 163,
   "id": "352018b1",
   "metadata": {},
   "outputs": [],
   "source": [
    "chain = prompt | ChatOpenAI() | output_parser\n",
    "\n",
    "output = chain.invoke({\"question\": \"Google 이 창업한 연도는?\"})"
   ]
  },
  {
   "cell_type": "code",
   "execution_count": 164,
   "id": "fc2d1997",
   "metadata": {},
   "outputs": [
    {
     "data": {
      "text/plain": [
       "'1998-09-04'"
      ]
     },
     "execution_count": 164,
     "metadata": {},
     "output_type": "execute_result"
    }
   ],
   "source": [
    "output.strftime(\"%Y-%m-%d\")"
   ]
  },
  {
   "cell_type": "markdown",
   "id": "51edc70b",
   "metadata": {},
   "source": [
    "<br>\n",
    "\n",
    "<hr>\n",
    "\n",
    "<br>\n",
    "\n",
    "## 03-07. 열거형 출력 파서(EnumOutputParser)\n",
    "\n",
    "<br>\n",
    "\n",
    "### `EnumOutputParser`\n"
   ]
  },
  {
   "cell_type": "code",
   "execution_count": 166,
   "id": "e26f3c5b",
   "metadata": {},
   "outputs": [],
   "source": [
    "from langchain.output_parsers.enum import EnumOutputParser\n",
    "from enum import Enum"
   ]
  },
  {
   "cell_type": "markdown",
   "id": "0ffd21d2",
   "metadata": {},
   "source": [
    "<br>\n",
    "\n",
    "#### 사용 예시\n",
    "\n",
    "- `enum` 모듈을 사용하여 `Colors` 클래스를 정의\n",
    "    - `Colors` 클래스는 `Enum`을 상속받으며, RED, GREEN, BLUE 세 가지 색상 값\n"
   ]
  },
  {
   "cell_type": "code",
   "execution_count": 167,
   "id": "fd06ffa1",
   "metadata": {},
   "outputs": [],
   "source": [
    "class Colors(Enum):\n",
    "    RED = \"빨간색\"\n",
    "    GREEN = \"초록색\"\n",
    "    BLUE = \"파란색\""
   ]
  },
  {
   "cell_type": "markdown",
   "id": "3e6a342a",
   "metadata": {},
   "source": [
    "- `EnumOutputParser` 인스턴스 "
   ]
  },
  {
   "cell_type": "code",
   "execution_count": 168,
   "id": "2462192e",
   "metadata": {},
   "outputs": [],
   "source": [
    "parser = EnumOutputParser(enum=Colors)"
   ]
  },
  {
   "cell_type": "markdown",
   "id": "e66ec78f",
   "metadata": {},
   "source": [
    "- 프롬프트에 사람의 정보(`{person}`)와 파싱 지침(`{instructions}`)을 포함\n",
    "- `parser.get_format_instructions()` 함수를 호출하여 파싱 지침을 가져옴\n",
    "- 프롬프트, ChatOpenAI 모델, 파서를 연결하여 처리 체인을 구성"
   ]
  },
  {
   "cell_type": "code",
   "execution_count": 169,
   "id": "bf46bdc7",
   "metadata": {},
   "outputs": [],
   "source": [
    "from langchain_core.prompts import PromptTemplate\n",
    "from langchain_openai import ChatOpenAI"
   ]
  },
  {
   "cell_type": "code",
   "execution_count": 170,
   "id": "13a62344",
   "metadata": {},
   "outputs": [],
   "source": [
    "prompt = PromptTemplate.from_template(\n",
    "    \"\"\"다음의 물체는 어떤 색깔인가요?\n",
    "Object: {object}\n",
    "Instructions: {instructions}\"\"\"\n",
    ").partial(instructions=parser.get_format_instructions())\n",
    "\n",
    "chain = prompt | ChatOpenAI() | parser"
   ]
  },
  {
   "cell_type": "code",
   "execution_count": 171,
   "id": "22119bec",
   "metadata": {},
   "outputs": [
    {
     "name": "stdout",
     "output_type": "stream",
     "text": [
      "Colors.BLUE\n"
     ]
    }
   ],
   "source": [
    "response = chain.invoke({\"object\": \"하늘\"})\n",
    "print(response)"
   ]
  }
 ],
 "metadata": {
  "kernelspec": {
   "display_name": "lang_env",
   "language": "python",
   "name": "lang_env"
  },
  "language_info": {
   "codemirror_mode": {
    "name": "ipython",
    "version": 3
   },
   "file_extension": ".py",
   "mimetype": "text/x-python",
   "name": "python",
   "nbconvert_exporter": "python",
   "pygments_lexer": "ipython3",
   "version": "3.12.11"
  }
 },
 "nbformat": 4,
 "nbformat_minor": 5
}
