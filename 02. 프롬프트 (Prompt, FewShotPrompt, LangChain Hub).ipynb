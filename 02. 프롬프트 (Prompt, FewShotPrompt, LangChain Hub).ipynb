{
 "cells": [
  {
   "cell_type": "markdown",
   "id": "37beefa8",
   "metadata": {},
   "source": [
    "# 02. 프롬프트(Prompt)\n",
    "- 프롬프트 단계는 검색기에서 검색된 문서들을 바탕으로 **언어 모델이 사용할 질문이나 명령을 생성하는 과정**\n",
    "- 이 단계는 검색된 정보를 바탕으로 최종 사용자의 질문에 가장 잘 대응할 수 있는 응답을 생성하기 위해 필수적인 단계\n",
    "\n",
    "<br>\n",
    "\n",
    "### 프롬프트의 필요성\n",
    "- **문맥(Context) 설정**: 프롬프트는 언어 모델이 특정 문맥에서 작동하도록 설정하는 역할\n",
    "  - 이를 통해 모델은 제공된 정보를 바탕으로 보다 정확하고 관련성 높은 답변을 생성\n",
    "\n",
    "- **정보 통합** : 여러 문서에서 검색된 정보는 서로 다른 관점이나 내용을 포함할 수 있기에, 프롬프트 단계에서 이러한 정보를 통합하고, 모델이 이를 효율적으로 활용할 수 있는 형식으로 조정\n",
    "- **응답 품질 향상** : 질문에 대한 모델의 응답 품질은 프롬프트의 구성에 크게 의존. 잘 구성된 프롬프트는 모델이 보다 정확하고 유용한 정보를 제공\n",
    "\n",
    "<br>\n",
    "\n",
    "### RAG 프롬프트 구조\n",
    "- 지시사항(Instruction)\n",
    "- 질문(사용자 입력 질문)\n",
    "- 문맥(검색된 정보)\n",
    "\n",
    "```md\n",
    "당신은 질문-답변(Question-Answer) Task 를 수행한는 AI 어시스턴트 입니다.\n",
    "검색된 문맥(context)를 사용하여 질문(question)에 답하세요. \n",
    "만약, 문맥(context) 으로부터 답을 찾을 수 없다면 '모른다' 고 말하세요. \n",
    "한국어로 대답하세요.\n",
    "\n",
    "#Question: \n",
    "{이곳에 사용자가 입력한 질문이 삽입됩니다}\n",
    "\n",
    "#Context: \n",
    "{이곳에 검색된 정보가 삽입됩니다}\n",
    "\n",
    "```"
   ]
  },
  {
   "cell_type": "markdown",
   "id": "7dea3d3b",
   "metadata": {},
   "source": [
    "<br>\n",
    "\n",
    "### 프롬프트의 중요성\n",
    "- 이 단계를 통해 언어 모델은 사용자의 질문에 대해 최적화된 방식으로 응답을 생성할 수 있으며, 시스템 전체의 성능과 사용자 만족도에 직접적인 영향 \n",
    "- 프롬프트가 잘 구성되어 있지 않으면, 모델이 비효율적으로 작동할 수 있으며, 결과적으로 사용자의 요구에 부응하지 못하는 응답을 생성할 가능성이 높아짐"
   ]
  },
  {
   "cell_type": "markdown",
   "id": "10947ef2",
   "metadata": {},
   "source": [
    "<br>\n",
    "\n",
    "## 02-01. 프롬프트(Prompt)\n",
    "\n",
    "<br>\n",
    "\n",
    "### `PromptTemplate`"
   ]
  },
  {
   "cell_type": "code",
   "execution_count": 1,
   "id": "806a3d9d",
   "metadata": {},
   "outputs": [],
   "source": [
    "from dotenv import load_dotenv"
   ]
  },
  {
   "cell_type": "code",
   "execution_count": 2,
   "id": "9a23b505",
   "metadata": {},
   "outputs": [
    {
     "data": {
      "text/plain": [
       "True"
      ]
     },
     "execution_count": 2,
     "metadata": {},
     "output_type": "execute_result"
    }
   ],
   "source": [
    "load_dotenv()"
   ]
  },
  {
   "cell_type": "markdown",
   "id": "82e47cb6",
   "metadata": {},
   "source": [
    "- LLM 객체를 정의"
   ]
  },
  {
   "cell_type": "code",
   "execution_count": 3,
   "id": "37160235",
   "metadata": {},
   "outputs": [],
   "source": [
    "from langchain_openai import ChatOpenAI"
   ]
  },
  {
   "cell_type": "code",
   "execution_count": 4,
   "id": "02f60ca4",
   "metadata": {},
   "outputs": [],
   "source": [
    "llm = ChatOpenAI(model='gpt-4o-mini')"
   ]
  },
  {
   "cell_type": "markdown",
   "id": "f3382269",
   "metadata": {},
   "source": [
    "<br>\n",
    "\n",
    "### 방법 1. `from_template()` 메소드를 사용하여 `PromptTemplate` 객체 생성\n",
    "- 치환될 변수를 `{ 변수 }` 로 묶어서 템플릿을 정의"
   ]
  },
  {
   "cell_type": "code",
   "execution_count": 5,
   "id": "1a19735f",
   "metadata": {},
   "outputs": [],
   "source": [
    "from langchain_core.prompts import PromptTemplate"
   ]
  },
  {
   "cell_type": "code",
   "execution_count": 6,
   "id": "c78575da",
   "metadata": {},
   "outputs": [
    {
     "data": {
      "text/plain": [
       "PromptTemplate(input_variables=['country'], input_types={}, partial_variables={}, template='{country}의 수도는 어디인가요?')"
      ]
     },
     "execution_count": 6,
     "metadata": {},
     "output_type": "execute_result"
    }
   ],
   "source": [
    "template = \"{country}의 수도는 어디인가요?\"\n",
    "\n",
    "prompt = PromptTemplate.from_template(template)\n",
    "prompt"
   ]
  },
  {
   "cell_type": "markdown",
   "id": "17931202",
   "metadata": {},
   "source": [
    "- chain 생성"
   ]
  },
  {
   "cell_type": "code",
   "execution_count": 7,
   "id": "58983b1f",
   "metadata": {},
   "outputs": [],
   "source": [
    "chain = prompt | llm"
   ]
  },
  {
   "cell_type": "code",
   "execution_count": 8,
   "id": "c40e61f3",
   "metadata": {},
   "outputs": [
    {
     "data": {
      "text/plain": [
       "'대한민국의 수도는 서울입니다.'"
      ]
     },
     "execution_count": 8,
     "metadata": {},
     "output_type": "execute_result"
    }
   ],
   "source": [
    "chain.invoke(\"대한민국\").content"
   ]
  },
  {
   "cell_type": "markdown",
   "id": "ecc087d1",
   "metadata": {},
   "source": [
    "<br>\n",
    "\n",
    "### 방법 2. `PromptTemplate` 객체 생성과 동시에 `prompt` 생성\n",
    "* 추가 유효성 검사를 위해 `input_variables` 를 명시적으로 지정\n",
    "* 이러한 변수는 인스턴스화 중에 템플릿 문자열에 있는 변수와 비교하여 불일치하는 경우 예외를 발생"
   ]
  },
  {
   "cell_type": "code",
   "execution_count": null,
   "id": "28fe44df",
   "metadata": {},
   "outputs": [
    {
     "data": {
      "text/plain": [
       "PromptTemplate(input_variables=['country1'], input_types={}, partial_variables={'country2': '미국'}, template='{country1}과 {country2}의 수도는 각각 어디인가요?')"
      ]
     },
     "execution_count": 13,
     "metadata": {},
     "output_type": "execute_result"
    }
   ],
   "source": [
    "template = \"{country1}과 {country2}의 수도는 각각 어디인가요?\"\n",
    "\n",
    "prompt = PromptTemplate(\n",
    "    template=template,\n",
    "    input_variables=[\"country1\"],\n",
    "    partial_variables={\n",
    "        \"country2\": \"미국\" \n",
    "    },\n",
    ")\n",
    "\n",
    "prompt"
   ]
  },
  {
   "cell_type": "code",
   "execution_count": 17,
   "id": "e9ce7b28",
   "metadata": {},
   "outputs": [],
   "source": [
    "prompt_partial = prompt.partial(country2=\"캐나다\")\n",
    "\n",
    "chain = prompt_partial | llm"
   ]
  },
  {
   "cell_type": "code",
   "execution_count": 18,
   "id": "c4d2ea66",
   "metadata": {},
   "outputs": [
    {
     "data": {
      "text/plain": [
       "'대한민국의 수도는 서울이고, 캐나다의 수도는 오타와입니다.'"
      ]
     },
     "execution_count": 18,
     "metadata": {},
     "output_type": "execute_result"
    }
   ],
   "source": [
    "chain.invoke(\"대한민국\").content"
   ]
  },
  {
   "cell_type": "code",
   "execution_count": 19,
   "id": "0f864291",
   "metadata": {},
   "outputs": [
    {
     "data": {
      "text/plain": [
       "'대한민국의 수도는 서울이고, 호주의 수도는 캔버라입니다.'"
      ]
     },
     "execution_count": 19,
     "metadata": {},
     "output_type": "execute_result"
    }
   ],
   "source": [
    "chain.invoke({\"country1\": \"대한민국\", \"country2\": \"호주\"}).content"
   ]
  },
  {
   "cell_type": "markdown",
   "id": "57fec79a",
   "metadata": {},
   "source": [
    "<br>\n",
    "\n",
    "#### `partial_variables`: 부분 변수 채움\n",
    "- **`partial`을 사용하는 일반적인 용도는 함수를 부분적으로 사용하는 것**\n",
    "  - 이 사용 사례는 항상 공통된 방식으로 가져오고 싶은 변수 가 있는 경우 (예: 날짜/시간)\n",
    "  - 항상 현재 날짜가 표시되기를 원하는 프롬프트가 있을 떄, 항상 현재 날짜를 반환하는 함수 를 사용하여 프롬프트를 부분적으로 변경할 수 있으면 매우 편리"
   ]
  },
  {
   "cell_type": "code",
   "execution_count": 6,
   "id": "59c37c95",
   "metadata": {},
   "outputs": [],
   "source": [
    "from datetime import datetime"
   ]
  },
  {
   "cell_type": "markdown",
   "id": "80c74e2c",
   "metadata": {},
   "source": [
    "- 날짜를 반환하는 함수 정의"
   ]
  },
  {
   "cell_type": "code",
   "execution_count": 7,
   "id": "ca59dde5",
   "metadata": {},
   "outputs": [],
   "source": [
    "def get_today():\n",
    "    return datetime.now().strftime(\"%B %d\")"
   ]
  },
  {
   "cell_type": "code",
   "execution_count": 22,
   "id": "128d388f",
   "metadata": {},
   "outputs": [
    {
     "data": {
      "text/plain": [
       "'오늘의 날짜는 October 01 입니다. 오늘이 생일인 유명인 3명을 나열해 주세요. 생년월일을 표기해주세요.'"
      ]
     },
     "execution_count": 22,
     "metadata": {},
     "output_type": "execute_result"
    }
   ],
   "source": [
    "prompt = PromptTemplate(\n",
    "    template=\"오늘의 날짜는 {today} 입니다. 오늘이 생일인 유명인 {n}명을 나열해 주세요. 생년월일을 표기해주세요.\",\n",
    "    input_variables=[\"n\"],\n",
    "    partial_variables={\n",
    "        \"today\": get_today\n",
    "    },\n",
    ")\n",
    "\n",
    "prompt.format(n=3)"
   ]
  },
  {
   "cell_type": "code",
   "execution_count": 23,
   "id": "9c2443f5",
   "metadata": {},
   "outputs": [],
   "source": [
    "chain = prompt | llm"
   ]
  },
  {
   "cell_type": "code",
   "execution_count": 24,
   "id": "cf969052",
   "metadata": {},
   "outputs": [
    {
     "name": "stdout",
     "output_type": "stream",
     "text": [
      "10월 1일에 생일인 유명인 3명은 다음과 같습니다:\n",
      "\n",
      "1. **일라 스튜어트 (Ila St. John)** - 1937년 10월 1일\n",
      "2. **브래드 피트 (Brad Pitt)** - 1963년 10월 1일\n",
      "3. **제이크 질렌할 (Jake Gyllenhaal)** - 1980년 10월 1일\n",
      "\n",
      "이 외에도 여러 유명인들이 있지만, 이 세 명이 특히 잘 알려져 있습니다.\n"
     ]
    }
   ],
   "source": [
    "print(chain.invoke(3).content)"
   ]
  },
  {
   "cell_type": "code",
   "execution_count": 26,
   "id": "bfc7cdd5",
   "metadata": {},
   "outputs": [
    {
     "name": "stdout",
     "output_type": "stream",
     "text": [
      "오늘인 1월 2일에 생일인 유명인 3명은 다음과 같습니다:\n",
      "\n",
      "1. **Isaac Asimov** - 1920년 1월 2일\n",
      "2. **J. R. R. Tolkien** - 1892년 1월 2일\n",
      "3. **Dax Shepard** - 1975년 1월 2일\n",
      "\n",
      "이 외에도 1월 2일에 태어난 많은 유명인들이 있습니다!\n"
     ]
    }
   ],
   "source": [
    "print(chain.invoke({\"today\": \"Jan 02\", \"n\": 3}).content)"
   ]
  },
  {
   "cell_type": "markdown",
   "id": "705dc80f",
   "metadata": {},
   "source": [
    "<br>\n",
    "\n",
    "### 파일로부터 template 읽어오기"
   ]
  },
  {
   "cell_type": "code",
   "execution_count": 8,
   "id": "28fe68f4",
   "metadata": {},
   "outputs": [],
   "source": [
    "from langchain_core.prompts import load_prompt"
   ]
  },
  {
   "cell_type": "markdown",
   "id": "ed434d0c",
   "metadata": {},
   "source": [
    "<br>\n",
    "\n",
    "- `fruit_color.yaml`\n",
    "\n",
    "```yaml\n",
    "_type: prompt\n",
    "input_variables:\n",
    "  - fruit\n",
    "template: |\n",
    "  {fruit}의 색깔이 뭐야?\n",
    "```"
   ]
  },
  {
   "cell_type": "code",
   "execution_count": 9,
   "id": "acb472dd",
   "metadata": {},
   "outputs": [
    {
     "data": {
      "text/plain": [
       "PromptTemplate(input_variables=['fruit'], input_types={}, partial_variables={}, template='{fruit}의 색깔이 뭐야?')"
      ]
     },
     "execution_count": 9,
     "metadata": {},
     "output_type": "execute_result"
    }
   ],
   "source": [
    "prompt = load_prompt(\"prompts/fruit_color.yaml\")\n",
    "prompt"
   ]
  },
  {
   "cell_type": "code",
   "execution_count": 10,
   "id": "2340d270",
   "metadata": {},
   "outputs": [
    {
     "data": {
      "text/plain": [
       "'사과의 색깔이 뭐야?'"
      ]
     },
     "execution_count": 10,
     "metadata": {},
     "output_type": "execute_result"
    }
   ],
   "source": [
    "prompt.format(fruit=\"사과\")"
   ]
  },
  {
   "cell_type": "code",
   "execution_count": 11,
   "id": "cad6aac7",
   "metadata": {},
   "outputs": [
    {
     "name": "stdout",
     "output_type": "stream",
     "text": [
      "대한민국의 수도에 대해서 알려주세요.\n",
      "수도의 특징을 다음의 양식에 맞게 정리해 주세요.\n",
      "300자 내외로 작성해 주세요.\n",
      "한글로 작성해 주세요.\n",
      "----\n",
      "[양식]\n",
      "1. 면적\n",
      "2. 인구\n",
      "3. 역사적 장소\n",
      "4. 특산품\n",
      "\n",
      "#Answer:\n"
     ]
    }
   ],
   "source": [
    "prompt2 = load_prompt(\"prompts/capital.yaml\")\n",
    "print(prompt2.format(country=\"대한민국\"))"
   ]
  },
  {
   "cell_type": "markdown",
   "id": "1e3cddd8",
   "metadata": {},
   "source": [
    "<br>\n",
    "\n",
    "### `ChatPromptTemplate`\n",
    "- `ChatPromptTemplate` 은 대화목록을 프롬프트로 주입하고자 할 때 활용\n",
    "- 메시지는 튜플(tuple) 형식으로 구성하며, (role, message) 로 구성하여 리스트로 생성할 수 있음\n",
    "- `role` \n",
    "  - `\"system\"` : 시스템 설정 메시지. 주로 전역설정과 관련된 프롬프트. \n",
    "  - `\"human\"` : 사용자 입력 메시지\n",
    "  - `\"ai\"`: AI 의 답변 메시지"
   ]
  },
  {
   "cell_type": "code",
   "execution_count": 12,
   "id": "e7a9d9a8",
   "metadata": {},
   "outputs": [],
   "source": [
    "from langchain_core.prompts import ChatPromptTemplate"
   ]
  },
  {
   "cell_type": "code",
   "execution_count": 13,
   "id": "bf9ffbaf",
   "metadata": {},
   "outputs": [
    {
     "data": {
      "text/plain": [
       "ChatPromptTemplate(input_variables=['country'], input_types={}, partial_variables={}, messages=[HumanMessagePromptTemplate(prompt=PromptTemplate(input_variables=['country'], input_types={}, partial_variables={}, template='{country}의 수도는 어디인가요?'), additional_kwargs={})])"
      ]
     },
     "execution_count": 13,
     "metadata": {},
     "output_type": "execute_result"
    }
   ],
   "source": [
    "chat_prompt = ChatPromptTemplate.from_template(\"{country}의 수도는 어디인가요?\")\n",
    "chat_prompt"
   ]
  },
  {
   "cell_type": "code",
   "execution_count": 14,
   "id": "350b762d",
   "metadata": {},
   "outputs": [
    {
     "data": {
      "text/plain": [
       "'Human: 대한민국의 수도는 어디인가요?'"
      ]
     },
     "execution_count": 14,
     "metadata": {},
     "output_type": "execute_result"
    }
   ],
   "source": [
    "chat_prompt.format(country=\"대한민국\")"
   ]
  },
  {
   "cell_type": "code",
   "execution_count": 37,
   "id": "6d958883",
   "metadata": {},
   "outputs": [
    {
     "data": {
      "text/plain": [
       "[SystemMessage(content='당신은 친절한 AI 어시스턴트입니다. 당신의 이름은 테디 입니다.', additional_kwargs={}, response_metadata={}),\n",
       " HumanMessage(content='반가워요!', additional_kwargs={}, response_metadata={}),\n",
       " AIMessage(content='안녕하세요! 무엇을 도와드릴까요?', additional_kwargs={}, response_metadata={}),\n",
       " HumanMessage(content='당신의 이름은 무엇입니까?', additional_kwargs={}, response_metadata={})]"
      ]
     },
     "execution_count": 37,
     "metadata": {},
     "output_type": "execute_result"
    }
   ],
   "source": [
    "chat_template = ChatPromptTemplate.from_messages(\n",
    "    [\n",
    "        # role, message\n",
    "        (\"system\", \"당신은 친절한 AI 어시스턴트입니다. 당신의 이름은 {name} 입니다.\"),\n",
    "        (\"human\", \"반가워요!\"),\n",
    "        (\"ai\", \"안녕하세요! 무엇을 도와드릴까요?\"),\n",
    "        (\"human\", \"{user_input}\"),\n",
    "    ]\n",
    ")\n",
    "\n",
    "messages = chat_template.format_messages(\n",
    "    name=\"테디\", user_input=\"당신의 이름은 무엇입니까?\"\n",
    ")\n",
    "messages"
   ]
  },
  {
   "cell_type": "code",
   "execution_count": 38,
   "id": "7c335add",
   "metadata": {},
   "outputs": [
    {
     "data": {
      "text/plain": [
       "'제 이름은 테디입니다! 어떻게 도와드릴까요?'"
      ]
     },
     "execution_count": 38,
     "metadata": {},
     "output_type": "execute_result"
    }
   ],
   "source": [
    "llm.invoke(messages).content"
   ]
  },
  {
   "cell_type": "markdown",
   "id": "5b2f791d",
   "metadata": {},
   "source": [
    "- 체인을 생성"
   ]
  },
  {
   "cell_type": "code",
   "execution_count": 39,
   "id": "73ed2d35",
   "metadata": {},
   "outputs": [],
   "source": [
    "chain = chat_template | llm"
   ]
  },
  {
   "cell_type": "code",
   "execution_count": 40,
   "id": "c6a6686a",
   "metadata": {},
   "outputs": [
    {
     "data": {
      "text/plain": [
       "'제 이름은 Teddy입니다! 당신과 이야기하게 되어 기쁩니다. 어떤 도움이 필요하신가요?'"
      ]
     },
     "execution_count": 40,
     "metadata": {},
     "output_type": "execute_result"
    }
   ],
   "source": [
    "chain.invoke({\"name\": \"Teddy\", \"user_input\": \"당신의 이름은 무엇입니까?\"}).content"
   ]
  },
  {
   "cell_type": "markdown",
   "id": "31e2eb85",
   "metadata": {},
   "source": [
    "<br>\n",
    "\n",
    "### `MessagePlaceholder`\n",
    "- LangChain은 포맷하는 동안 렌더링할 메시지를 완전히 제어할 수 있는 `MessagePlaceholder` 를 제공\n",
    "  - **메시지 프롬프트 템플릿에 어떤 역할을 사용해야 할지 확실하지 않거나 서식 지정 중에 메시지 목록을 삽입하려는 경우 유용**"
   ]
  },
  {
   "cell_type": "code",
   "execution_count": 15,
   "id": "4bd12a02",
   "metadata": {},
   "outputs": [],
   "source": [
    "from langchain_core.output_parsers import StrOutputParser\n",
    "from langchain_core.prompts import ChatPromptTemplate, MessagesPlaceholder"
   ]
  },
  {
   "cell_type": "code",
   "execution_count": 42,
   "id": "4f683606",
   "metadata": {},
   "outputs": [
    {
     "data": {
      "text/plain": [
       "ChatPromptTemplate(input_variables=['conversation', 'word_count'], input_types={'conversation': list[typing.Annotated[typing.Union[typing.Annotated[langchain_core.messages.ai.AIMessage, Tag(tag='ai')], typing.Annotated[langchain_core.messages.human.HumanMessage, Tag(tag='human')], typing.Annotated[langchain_core.messages.chat.ChatMessage, Tag(tag='chat')], typing.Annotated[langchain_core.messages.system.SystemMessage, Tag(tag='system')], typing.Annotated[langchain_core.messages.function.FunctionMessage, Tag(tag='function')], typing.Annotated[langchain_core.messages.tool.ToolMessage, Tag(tag='tool')], typing.Annotated[langchain_core.messages.ai.AIMessageChunk, Tag(tag='AIMessageChunk')], typing.Annotated[langchain_core.messages.human.HumanMessageChunk, Tag(tag='HumanMessageChunk')], typing.Annotated[langchain_core.messages.chat.ChatMessageChunk, Tag(tag='ChatMessageChunk')], typing.Annotated[langchain_core.messages.system.SystemMessageChunk, Tag(tag='SystemMessageChunk')], typing.Annotated[langchain_core.messages.function.FunctionMessageChunk, Tag(tag='FunctionMessageChunk')], typing.Annotated[langchain_core.messages.tool.ToolMessageChunk, Tag(tag='ToolMessageChunk')]], FieldInfo(annotation=NoneType, required=True, discriminator=Discriminator(discriminator=<function _get_type at 0x00000253AB35F1A0>, custom_error_type=None, custom_error_message=None, custom_error_context=None))]]}, partial_variables={}, messages=[SystemMessagePromptTemplate(prompt=PromptTemplate(input_variables=[], input_types={}, partial_variables={}, template='당신은 요약 전문 AI 어시스턴트입니다. 당신의 임무는 주요 키워드로 대화를 요약하는 것입니다.'), additional_kwargs={}), MessagesPlaceholder(variable_name='conversation'), HumanMessagePromptTemplate(prompt=PromptTemplate(input_variables=['word_count'], input_types={}, partial_variables={}, template='지금까지의 대화를 {word_count} 단어로 요약합니다.'), additional_kwargs={})])"
      ]
     },
     "execution_count": 42,
     "metadata": {},
     "output_type": "execute_result"
    }
   ],
   "source": [
    "chat_prompt = ChatPromptTemplate.from_messages(\n",
    "    [\n",
    "        (\n",
    "            \"system\",\n",
    "            \"당신은 요약 전문 AI 어시스턴트입니다. 당신의 임무는 주요 키워드로 대화를 요약하는 것입니다.\",\n",
    "        ),\n",
    "        MessagesPlaceholder(variable_name=\"conversation\"),\n",
    "        (\"human\", \"지금까지의 대화를 {word_count} 단어로 요약합니다.\"),\n",
    "    ]\n",
    ")\n",
    "chat_prompt"
   ]
  },
  {
   "cell_type": "markdown",
   "id": "8f7d19aa",
   "metadata": {},
   "source": [
    "- `conversation` 대화목록을 나중에 추가하고자 할 때 `MessagesPlaceholder` 를 사용"
   ]
  },
  {
   "cell_type": "code",
   "execution_count": 43,
   "id": "30f75c3a",
   "metadata": {},
   "outputs": [
    {
     "name": "stdout",
     "output_type": "stream",
     "text": [
      "System: 당신은 요약 전문 AI 어시스턴트입니다. 당신의 임무는 주요 키워드로 대화를 요약하는 것입니다.\n",
      "Human: 안녕하세요! 저는 오늘 새로 입사한 테디 입니다. 만나서 반갑습니다.\n",
      "AI: 반가워요! 앞으로 잘 부탁 드립니다.\n",
      "Human: 지금까지의 대화를 5 단어로 요약합니다.\n"
     ]
    }
   ],
   "source": [
    "formatted_chat_prompt = chat_prompt.format(\n",
    "    word_count=5,\n",
    "    conversation=[\n",
    "        (\"human\", \"안녕하세요! 저는 오늘 새로 입사한 테디 입니다. 만나서 반갑습니다.\"),\n",
    "        (\"ai\", \"반가워요! 앞으로 잘 부탁 드립니다.\"),\n",
    "    ],\n",
    ")\n",
    "\n",
    "print(formatted_chat_prompt)"
   ]
  },
  {
   "cell_type": "code",
   "execution_count": 44,
   "id": "6e4d73df",
   "metadata": {},
   "outputs": [],
   "source": [
    "chain = chat_prompt | llm | StrOutputParser()"
   ]
  },
  {
   "cell_type": "code",
   "execution_count": 45,
   "id": "ba94581d",
   "metadata": {},
   "outputs": [
    {
     "data": {
      "text/plain": [
       "'새로 입사한 테디, 반가움.'"
      ]
     },
     "execution_count": 45,
     "metadata": {},
     "output_type": "execute_result"
    }
   ],
   "source": [
    "chain.invoke(\n",
    "    {\n",
    "        \"word_count\": 5,\n",
    "        \"conversation\": [\n",
    "            (\n",
    "                \"human\",\n",
    "                \"안녕하세요! 저는 오늘 새로 입사한 테디 입니다. 만나서 반갑습니다.\",\n",
    "            ),\n",
    "            (\"ai\", \"반가워요! 앞으로 잘 부탁 드립니다.\"),\n",
    "        ],\n",
    "    }\n",
    ")"
   ]
  },
  {
   "cell_type": "markdown",
   "id": "6e6fc507",
   "metadata": {},
   "source": [
    "<br>\n",
    "\n",
    "<hr>\n",
    "\n",
    "<br>\n",
    "\n",
    "## 02-02 퓨샷 프롬프트(FewShotPromptTemplate)\n",
    "- Few-Shot Prompting : 모델에게 \"예시 몇 개\"를 같이 보여주면서, 앞으로의 입력도 그 패턴대로 답변하도록 유도하는 프롬프트 기법\n",
    "  - 예시가 전혀 없는 것을 Zero-Shot, 하나만 있는 것을 One-Shot, 몇 개 있는 것을 Few-Shot\n",
    "\n",
    "\n",
    "| 이유                  | 설명                                     |\n",
    "| ------------------- | -------------------------------------- |\n",
    "| **출력 패턴 통제**      | 원하는 형식(예: JSON, 문장 구조, 말투 등)을 쉽게 유도 가능 |\n",
    "| **작업 이해 향상**      | 예시를 통해 문제의 의미나 범위를 명확히 인식              |\n",
    "| **작은 데이터로 튜닝 효과** | 별도 모델 학습 없이도 “작은 학습 효과”를 얻음            |\n",
    "| **제로샷보다 정확도↑**    | 예시 덕분에 오답률, 불필요한 말줄임 등이 줄어듦            |\n",
    "\n",
    "\n",
    "\n",
    "<br>\n",
    "\n",
    "### `FewShotPromptTemplate`"
   ]
  },
  {
   "cell_type": "code",
   "execution_count": null,
   "id": "6e021d78",
   "metadata": {},
   "outputs": [
    {
     "name": "stdout",
     "output_type": "stream",
     "text": [
      "대한민국의 수도는 서울입니다."
     ]
    }
   ],
   "source": [
    "llm = ChatOpenAI(\n",
    "    temperature=0,  # 창의성\n",
    "    model_name=\"gpt-4o-mini\",  # 모델명\n",
    ")\n",
    "\n",
    "question = \"대한민국의 수도는 뭐야?\"\n",
    "\n",
    "answer = llm.stream(question)\n",
    "\n",
    "for chunk in answer:\n",
    "    if chunk:\n",
    "        print(chunk.content, end='', flush=True)"
   ]
  },
  {
   "cell_type": "code",
   "execution_count": 17,
   "id": "d68649e2",
   "metadata": {},
   "outputs": [],
   "source": [
    "from langchain_core.prompts.few_shot import FewShotPromptTemplate\n",
    "from langchain_core.prompts import PromptTemplate\n",
    "from langchain_core.output_parsers import StrOutputParser"
   ]
  },
  {
   "cell_type": "code",
   "execution_count": 18,
   "id": "dfbb5920",
   "metadata": {},
   "outputs": [],
   "source": [
    "examples = [\n",
    "    {\n",
    "        \"question\": \"스티브 잡스와 아인슈타인 중 누가 더 오래 살았나요?\",\n",
    "        \"answer\": \"\"\"이 질문에 추가 질문이 필요한가요: 예.\n",
    "            추가 질문: 스티브 잡스는 몇 살에 사망했나요?\n",
    "            중간 답변: 스티브 잡스는 56세에 사망했습니다.\n",
    "            추가 질문: 아인슈타인은 몇 살에 사망했나요?\n",
    "            중간 답변: 아인슈타인은 76세에 사망했습니다.\n",
    "            최종 답변은: 아인슈타인\n",
    "            \"\"\",\n",
    "    },\n",
    "    {\n",
    "        \"question\": \"네이버의 창립자는 언제 태어났나요?\",\n",
    "        \"answer\": \"\"\"이 질문에 추가 질문이 필요한가요: 예.\n",
    "            추가 질문: 네이버의 창립자는 누구인가요?\n",
    "            중간 답변: 네이버는 이해진에 의해 창립되었습니다.\n",
    "            추가 질문: 이해진은 언제 태어났나요?\n",
    "            중간 답변: 이해진은 1967년 6월 22일에 태어났습니다.\n",
    "            최종 답변은: 1967년 6월 22일\n",
    "            \"\"\",\n",
    "    },\n",
    "    {\n",
    "        \"question\": \"율곡 이이의 어머니가 태어난 해의 통치하던 왕은 누구인가요?\",\n",
    "        \"answer\": \"\"\"이 질문에 추가 질문이 필요한가요: 예.\n",
    "            추가 질문: 율곡 이이의 어머니는 누구인가요?\n",
    "            중간 답변: 율곡 이이의 어머니는 신사임당입니다.\n",
    "            추가 질문: 신사임당은 언제 태어났나요?\n",
    "            중간 답변: 신사임당은 1504년에 태어났습니다.\n",
    "            추가 질문: 1504년에 조선을 통치한 왕은 누구인가요?\n",
    "            중간 답변: 1504년에 조선을 통치한 왕은 연산군입니다.\n",
    "            최종 답변은: 연산군\n",
    "            \"\"\",\n",
    "    },\n",
    "    {\n",
    "        \"question\": \"올드보이와 기생충의 감독이 같은 나라 출신인가요?\",\n",
    "        \"answer\": \"\"\"이 질문에 추가 질문이 필요한가요: 예.\n",
    "            추가 질문: 올드보이의 감독은 누구인가요?\n",
    "            중간 답변: 올드보이의 감독은 박찬욱입니다.\n",
    "            추가 질문: 박찬욱은 어느 나라 출신인가요?\n",
    "            중간 답변: 박찬욱은 대한민국 출신입니다.\n",
    "            추가 질문: 기생충의 감독은 누구인가요?\n",
    "            중간 답변: 기생충의 감독은 봉준호입니다.\n",
    "            추가 질문: 봉준호는 어느 나라 출신인가요?\n",
    "            중간 답변: 봉준호는 대한민국 출신입니다.\n",
    "            최종 답변은: 예\n",
    "            \"\"\",\n",
    "    },\n",
    "]"
   ]
  },
  {
   "cell_type": "code",
   "execution_count": 19,
   "id": "fbebe8e0",
   "metadata": {},
   "outputs": [
    {
     "name": "stdout",
     "output_type": "stream",
     "text": [
      "Question:\n",
      "스티브 잡스와 아인슈타인 중 누가 더 오래 살았나요?\n",
      "Answer:\n",
      "이 질문에 추가 질문이 필요한가요: 예.\n",
      "            추가 질문: 스티브 잡스는 몇 살에 사망했나요?\n",
      "            중간 답변: 스티브 잡스는 56세에 사망했습니다.\n",
      "            추가 질문: 아인슈타인은 몇 살에 사망했나요?\n",
      "            중간 답변: 아인슈타인은 76세에 사망했습니다.\n",
      "            최종 답변은: 아인슈타인\n",
      "            \n"
     ]
    }
   ],
   "source": [
    "example_prompt = PromptTemplate.from_template(\n",
    "    \"Question:\\n{question}\\nAnswer:\\n{answer}\"\n",
    ")\n",
    "\n",
    "print(example_prompt.format(**examples[0]))"
   ]
  },
  {
   "cell_type": "code",
   "execution_count": 20,
   "id": "4819b50f",
   "metadata": {},
   "outputs": [],
   "source": [
    "prompt = FewShotPromptTemplate(\n",
    "    examples=examples,\n",
    "    example_prompt=example_prompt,\n",
    "    suffix=\"Question:\\n{question}\\nAnswer:\",\n",
    "    input_variables=[\"question\"],\n",
    ")"
   ]
  },
  {
   "cell_type": "code",
   "execution_count": 21,
   "id": "c9d0be5f",
   "metadata": {},
   "outputs": [
    {
     "name": "stdout",
     "output_type": "stream",
     "text": [
      "Question:\n",
      "스티브 잡스와 아인슈타인 중 누가 더 오래 살았나요?\n",
      "Answer:\n",
      "이 질문에 추가 질문이 필요한가요: 예.\n",
      "            추가 질문: 스티브 잡스는 몇 살에 사망했나요?\n",
      "            중간 답변: 스티브 잡스는 56세에 사망했습니다.\n",
      "            추가 질문: 아인슈타인은 몇 살에 사망했나요?\n",
      "            중간 답변: 아인슈타인은 76세에 사망했습니다.\n",
      "            최종 답변은: 아인슈타인\n",
      "            \n",
      "\n",
      "Question:\n",
      "네이버의 창립자는 언제 태어났나요?\n",
      "Answer:\n",
      "이 질문에 추가 질문이 필요한가요: 예.\n",
      "            추가 질문: 네이버의 창립자는 누구인가요?\n",
      "            중간 답변: 네이버는 이해진에 의해 창립되었습니다.\n",
      "            추가 질문: 이해진은 언제 태어났나요?\n",
      "            중간 답변: 이해진은 1967년 6월 22일에 태어났습니다.\n",
      "            최종 답변은: 1967년 6월 22일\n",
      "            \n",
      "\n",
      "Question:\n",
      "율곡 이이의 어머니가 태어난 해의 통치하던 왕은 누구인가요?\n",
      "Answer:\n",
      "이 질문에 추가 질문이 필요한가요: 예.\n",
      "            추가 질문: 율곡 이이의 어머니는 누구인가요?\n",
      "            중간 답변: 율곡 이이의 어머니는 신사임당입니다.\n",
      "            추가 질문: 신사임당은 언제 태어났나요?\n",
      "            중간 답변: 신사임당은 1504년에 태어났습니다.\n",
      "            추가 질문: 1504년에 조선을 통치한 왕은 누구인가요?\n",
      "            중간 답변: 1504년에 조선을 통치한 왕은 연산군입니다.\n",
      "            최종 답변은: 연산군\n",
      "            \n",
      "\n",
      "Question:\n",
      "올드보이와 기생충의 감독이 같은 나라 출신인가요?\n",
      "Answer:\n",
      "이 질문에 추가 질문이 필요한가요: 예.\n",
      "            추가 질문: 올드보이의 감독은 누구인가요?\n",
      "            중간 답변: 올드보이의 감독은 박찬욱입니다.\n",
      "            추가 질문: 박찬욱은 어느 나라 출신인가요?\n",
      "            중간 답변: 박찬욱은 대한민국 출신입니다.\n",
      "            추가 질문: 기생충의 감독은 누구인가요?\n",
      "            중간 답변: 기생충의 감독은 봉준호입니다.\n",
      "            추가 질문: 봉준호는 어느 나라 출신인가요?\n",
      "            중간 답변: 봉준호는 대한민국 출신입니다.\n",
      "            최종 답변은: 예\n",
      "            \n",
      "\n",
      "Question:\n",
      "Google이 창립된 연도에 Bill Gates의 나이는 몇 살인가요?\n",
      "Answer:\n"
     ]
    }
   ],
   "source": [
    "question = \"Google이 창립된 연도에 Bill Gates의 나이는 몇 살인가요?\"\n",
    "final_prompt = prompt.format(question=question)\n",
    "print(final_prompt)"
   ]
  },
  {
   "cell_type": "code",
   "execution_count": 22,
   "id": "5ccdad4b",
   "metadata": {},
   "outputs": [
    {
     "name": "stdout",
     "output_type": "stream",
     "text": [
      "이 질문에 추가 질문이 필요한가요: 예.  \n",
      "            추가 질문: Google은 언제 창립되었나요?  \n",
      "            중간 답변: Google은 1998년에 창립되었습니다.  \n",
      "            추가 질문: Bill Gates는 언제 태어났나요?  \n",
      "            중간 답변: Bill Gates는 1955년 10월 28일에 태어났습니다.  \n",
      "            추가 질문: 1998년 당시 Bill Gates의 나이는 몇 살이었나요?  \n",
      "            중간 답변: 1998년에는 Bill Gates가 42세였습니다.  \n",
      "            최종 답변은: 42세"
     ]
    }
   ],
   "source": [
    "answer = llm.stream(final_prompt)\n",
    "\n",
    "for chunk in answer:\n",
    "    if chunk:\n",
    "        print(chunk.content, end='', flush=True)"
   ]
  },
  {
   "cell_type": "markdown",
   "id": "d58e1e97",
   "metadata": {},
   "source": [
    "<br>\n",
    "\n",
    "### `Example Selector`\n",
    "- 예제가 많은 경우 프롬프트에 포함할 예제를 선택 $\\rightarrow$ `Example Selector` 는 이 작업을 담당하는 클래스\n",
    "- 사용자의 입력과 의미적으로 가장 관련성 높은 예시(few-shot example)를 자동으로 선택하여 프롬프트에 포함시키는 도구 또는 메커니즘"
   ]
  },
  {
   "cell_type": "code",
   "execution_count": 23,
   "id": "c83fa326",
   "metadata": {},
   "outputs": [],
   "source": [
    "from langchain_core.example_selectors import MaxMarginalRelevanceExampleSelector, SemanticSimilarityExampleSelector\n",
    "from langchain_openai import OpenAIEmbeddings\n",
    "from langchain_chroma import Chroma"
   ]
  },
  {
   "cell_type": "code",
   "execution_count": 24,
   "id": "c632bf4d",
   "metadata": {},
   "outputs": [],
   "source": [
    "# Vector DB 생성 (저장소 이름, 임베딩 클래스)\n",
    "chroma = Chroma(\"example_selector\", OpenAIEmbeddings())"
   ]
  },
  {
   "cell_type": "code",
   "execution_count": 26,
   "id": "1df676d8",
   "metadata": {},
   "outputs": [],
   "source": [
    "example_selector = SemanticSimilarityExampleSelector.from_examples(\n",
    "    examples, # 선택 가능한 예시 목록\n",
    "    OpenAIEmbeddings(), # 의미적 유사성을 측정하는 데 사용되는 임베딩을 생성하는 임베딩 클래스\n",
    "    Chroma, # 임베딩을 저장하고 유사성 검색을 수행하는 데 사용되는 VectorStore 클래스\n",
    "    k=1, # 생성할 예시의 수\n",
    ")"
   ]
  },
  {
   "cell_type": "code",
   "execution_count": 27,
   "id": "dff21720",
   "metadata": {},
   "outputs": [],
   "source": [
    "selected_examples = example_selector.select_examples({\"question\": question})"
   ]
  },
  {
   "cell_type": "code",
   "execution_count": null,
   "id": "b2425b35",
   "metadata": {},
   "outputs": [
    {
     "name": "stdout",
     "output_type": "stream",
     "text": [
      "입력에 가장 유사한 예시:\n",
      "Google이 창립된 연도에 Bill Gates의 나이는 몇 살인가요?\n",
      "\n",
      "question:\n",
      "네이버의 창립자는 언제 태어났나요?\n",
      "answer:\n",
      "이 질문에 추가 질문이 필요한가요: 예.\n",
      "            추가 질문: 네이버의 창립자는 누구인가요?\n",
      "            중간 답변: 네이버는 이해진에 의해 창립되었습니다.\n",
      "            추가 질문: 이해진은 언제 태어났나요?\n",
      "            중간 답변: 이해진은 1967년 6월 22일에 태어났습니다.\n",
      "            최종 답변은: 1967년 6월 22일\n",
      "            \n"
     ]
    }
   ],
   "source": [
    "question = \"Google이 창립된 연도에 Bill Gates의 나이는 몇 살인가요?\"\n",
    "print(f\"입력에 가장 유사한 예시:\\n{question}\\n\")\n",
    "\n",
    "for example in selected_examples:\n",
    "    print(f'question:\\n{example[\"question\"]}')\n",
    "    print(f'answer:\\n{example[\"answer\"]}')"
   ]
  },
  {
   "cell_type": "code",
   "execution_count": 30,
   "id": "c488cf60",
   "metadata": {},
   "outputs": [
    {
     "name": "stdout",
     "output_type": "stream",
     "text": [
      "Question:\n",
      "네이버의 창립자는 언제 태어났나요?\n",
      "Answer:\n",
      "이 질문에 추가 질문이 필요한가요: 예.\n",
      "            추가 질문: 네이버의 창립자는 누구인가요?\n",
      "            중간 답변: 네이버는 이해진에 의해 창립되었습니다.\n",
      "            추가 질문: 이해진은 언제 태어났나요?\n",
      "            중간 답변: 이해진은 1967년 6월 22일에 태어났습니다.\n",
      "            최종 답변은: 1967년 6월 22일\n",
      "            \n",
      "\n",
      "Question:\n",
      "Google이 창립된 연도에 Bill Gates의 나이는 몇 살인가요?\n",
      "Answer:\n"
     ]
    }
   ],
   "source": [
    "prompt = FewShotPromptTemplate(\n",
    "    example_selector=example_selector,\n",
    "    example_prompt=example_prompt,\n",
    "    suffix=\"Question:\\n{question}\\nAnswer:\",\n",
    "    input_variables=[\"question\"],\n",
    ")\n",
    "\n",
    "question = \"Google이 창립된 연도에 Bill Gates의 나이는 몇 살인가요?\"\n",
    "example_selector_prompt = prompt.format(question=question)\n",
    "print(example_selector_prompt)"
   ]
  },
  {
   "cell_type": "markdown",
   "id": "05814a18",
   "metadata": {},
   "source": [
    "- `ExampleSelector` 를 사용하여 `FewShotPromptTemplate` 을 생성"
   ]
  },
  {
   "cell_type": "code",
   "execution_count": 31,
   "id": "8bb0dc01",
   "metadata": {},
   "outputs": [],
   "source": [
    "prompt = FewShotPromptTemplate(\n",
    "    example_selector=example_selector,\n",
    "    example_prompt=example_prompt,\n",
    "    suffix=\"Question:\\n{question}\\nAnswer:\",\n",
    "    input_variables=[\"question\"],\n",
    ")\n",
    "\n",
    "chain = prompt | llm"
   ]
  },
  {
   "cell_type": "code",
   "execution_count": 32,
   "id": "d91bcadc",
   "metadata": {},
   "outputs": [
    {
     "name": "stdout",
     "output_type": "stream",
     "text": [
      "이 질문에 추가 질문이 필요한가요: 예.  \n",
      "추가 질문: Google은 몇 년도에 창립되었나요?  \n",
      "중간 답변: Google은 1998년에 창립되었습니다.  \n",
      "추가 질문: Bill Gates는 언제 태어났나요?  \n",
      "중간 답변: Bill Gates는 1955년 10월 28일에 태어났습니다.  \n",
      "추가 질문: 1998년에 Bill Gates는 몇 살이었나요?  \n",
      "중간 답변: 1998년에는 Bill Gates가 43세였습니다.  \n",
      "최종 답변은: 43세"
     ]
    }
   ],
   "source": [
    "answer = chain.stream(\n",
    "    {\"question\": \"Google이 창립된 연도에 Bill Gates의 나이는 몇 살인가요?\"}\n",
    ")\n",
    "\n",
    "for chunk in answer:\n",
    "    if chunk:\n",
    "        print(chunk.content, end='', flush=True)"
   ]
  },
  {
   "cell_type": "markdown",
   "id": "44a8b43e",
   "metadata": {},
   "source": [
    "<br>\n",
    "\n",
    "### `FewShotChatMessagePromptTemplate`"
   ]
  },
  {
   "cell_type": "code",
   "execution_count": null,
   "id": "70abccba",
   "metadata": {},
   "outputs": [],
   "source": [
    "examples = [\n",
    "   {\n",
    "      \"instruction\": \"당신은 회의록 작성 전문가 입니다. 주어진 정보를 바탕으로 회의록을 작성해 주세요\",\n",
    "      \"input\": \"2023년 12월 25일, XYZ 회사의 마케팅 전략 회의가 오후 3시에 시작되었다. 회의에는 마케팅 팀장인 김수진, 디지털 마케팅 담당자인 박지민, 소셜 미디어 관리자인 이준호가 참석했다. 회의의 주요 목적은 2024년 상반기 마케팅 전략을 수립하고, 새로운 소셜 미디어 캠페인에 대한 아이디어를 논의하는 것이었다. 팀장인 김수진은 최근 시장 동향에 대한 간략한 개요를 제공했으며, 이어서 각 팀원이 자신의 분야에서의 전략적 아이디어를 발표했다.\",\n",
    "      \"answer\": \"\"\"\n",
    "      회의록: XYZ 회사 마케팅 전략 회의\n",
    "      일시: 2023년 12월 25일\n",
    "      장소: XYZ 회사 회의실\n",
    "      참석자: 김수진 (마케팅 팀장), 박지민 (디지털 마케팅 담당자), 이준호 (소셜 미디어 관리자)\n",
    "\n",
    "      1. 개회\n",
    "         - 회의는 김수진 팀장의 개회사로 시작됨.\n",
    "         - 회의의 목적은 2024년 상반기 마케팅 전략 수립 및 새로운 소셜 미디어 캠페인 아이디어 논의.\n",
    "\n",
    "      2. 시장 동향 개요 (김수진)\n",
    "         - 김수진 팀장은 최근 시장 동향에 대한 분석을 제시.\n",
    "         - 소비자 행동 변화와 경쟁사 전략에 대한 통찰 공유.\n",
    "\n",
    "      3. 디지털 마케팅 전략 (박지민)\n",
    "         - 박지민은 디지털 마케팅 전략에 대해 발표.\n",
    "         - 온라인 광고와 SEO 최적화 방안에 중점을 둠.\n",
    "\n",
    "      4. 소셜 미디어 캠페인 (이준호)\n",
    "         - 이준호는 새로운 소셜 미디어 캠페인에 대한 아이디어를 제안.\n",
    "         - 인플루언서 마케팅과 콘텐츠 전략에 대한 계획을 설명함.\n",
    "\n",
    "      5. 종합 논의\n",
    "         - 팀원들 간의 아이디어 공유 및 토론.\n",
    "         - 각 전략에 대한 예산 및 자원 배분에 대해 논의.\n",
    "\n",
    "      6. 마무리\n",
    "         - 다음 회의 날짜 및 시간 확정.\n",
    "         - 회의록 정리 및 배포는 박지민 담당.\n",
    "      \"\"\",\n",
    "   },\n",
    "   {\n",
    "      \"instruction\": \"당신은 요약 전문가 입니다. 다음 주어진 정보를 바탕으로 내용을 요약해 주세요\",\n",
    "      \"input\": \"이 문서는 '지속 가능한 도시 개발을 위한 전략'에 대한 20페이지 분량의 보고서입니다. 보고서는 지속 가능한 도시 개발의 중요성, 현재 도시화의 문제점, 그리고 도시 개발을 지속 가능하게 만들기 위한 다양한 전략을 포괄적으로 다루고 있습니다. 이 보고서는 또한 성공적인 지속 가능한 도시 개발 사례를 여러 국가에서 소개하고, 이러한 사례들을 통해 얻은 교훈을 요약하고 있습니다.\",\n",
    "      \"answer\": \"\"\"\n",
    "      문서 요약: 지속 가능한 도시 개발을 위한 전략 보고서\n",
    "\n",
    "      - 중요성: 지속 가능한 도시 개발이 필수적인 이유와 그에 따른 사회적, 경제적, 환경적 이익을 강조.\n",
    "      - 현 문제점: 현재의 도시화 과정에서 발생하는 주요 문제점들, 예를 들어 환경 오염, 자원 고갈, 불평등 증가 등을 분석.\n",
    "      - 전략: 지속 가능한 도시 개발을 달성하기 위한 다양한 전략 제시. 이에는 친환경 건축, 대중교통 개선, 에너지 효율성 증대, 지역사회 참여 강화 등이 포함됨.\n",
    "      - 사례 연구: 전 세계 여러 도시의 성공적인 지속 가능한 개발 사례를 소개. 예를 들어, 덴마크의 코펜하겐, 일본의 요코하마 등의 사례를 통해 실현 가능한 전략들을 설명.\n",
    "      - 교훈: 이러한 사례들에서 얻은 주요 교훈을 요약. 강조된 교훈에는 다각적 접근의 중요성, 지역사회와의 협력, 장기적 계획의 필요성 등이 포함됨.\n",
    "\n",
    "      이 보고서는 지속 가능한 도시 개발이 어떻게 현실적이고 효과적인 형태로 이루어질 수 있는지에 대한 심도 있는 분석을 제공합니다.\n",
    "      \"\"\",\n",
    "   },\n",
    "   {\n",
    "      \"instruction\": \"당신은 문장 교정 전문가 입니다. 다음 주어진 문장을 교정해 주세요\",\n",
    "      \"input\": \"우리 회사는 새로운 마케팅 전략을 도입하려고 한다. 이를 통해 고객과의 소통이 더 효과적이 될 것이다.\",\n",
    "      \"answer\": \"본 회사는 새로운 마케팅 전략을 도입함으로써, 고객과의 소통을 보다 효과적으로 개선할 수 있을 것으로 기대된다.\",\n",
    "   },\n",
    "]"
   ]
  },
  {
   "cell_type": "code",
   "execution_count": 34,
   "id": "ab4bd717",
   "metadata": {},
   "outputs": [],
   "source": [
    "from langchain_core.prompts import ChatPromptTemplate, FewShotChatMessagePromptTemplate\n",
    "from langchain_core.example_selectors import SemanticSimilarityExampleSelector\n",
    "from langchain_openai import OpenAIEmbeddings\n",
    "from langchain_chroma import Chroma"
   ]
  },
  {
   "cell_type": "code",
   "execution_count": 35,
   "id": "dec32e3f",
   "metadata": {},
   "outputs": [],
   "source": [
    "chroma = Chroma(\"fewshot_chat\", OpenAIEmbeddings())"
   ]
  },
  {
   "cell_type": "code",
   "execution_count": 37,
   "id": "dc53cf06",
   "metadata": {},
   "outputs": [],
   "source": [
    "example_prompt = ChatPromptTemplate.from_messages(\n",
    "    [\n",
    "        (\"human\", \"{instruction}:\\n{input}\"),\n",
    "        (\"ai\", \"{answer}\"),\n",
    "    ]\n",
    ")"
   ]
  },
  {
   "cell_type": "code",
   "execution_count": 38,
   "id": "94c0de7d",
   "metadata": {},
   "outputs": [],
   "source": [
    "example_selector = SemanticSimilarityExampleSelector.from_examples(\n",
    "    examples,\n",
    "    OpenAIEmbeddings(),\n",
    "    chroma,\n",
    "    k=1,\n",
    ")"
   ]
  },
  {
   "cell_type": "code",
   "execution_count": 39,
   "id": "821c3ef8",
   "metadata": {},
   "outputs": [],
   "source": [
    "few_shot_prompt = FewShotChatMessagePromptTemplate(\n",
    "    example_selector=example_selector,\n",
    "    example_prompt=example_prompt,\n",
    ")"
   ]
  },
  {
   "cell_type": "markdown",
   "id": "54aca58f",
   "metadata": {},
   "source": [
    "- fewshot 예제와 example selector를 사용하여 유사한 예제 1개를 선택"
   ]
  },
  {
   "cell_type": "code",
   "execution_count": 40,
   "id": "0ee8eba0",
   "metadata": {},
   "outputs": [
    {
     "data": {
      "text/plain": [
       "[{'input': '2023년 12월 25일, XYZ 회사의 마케팅 전략 회의가 오후 3시에 시작되었다. 회의에는 마케팅 팀장인 김수진, 디지털 마케팅 담당자인 박지민, 소셜 미디어 관리자인 이준호가 참석했다. 회의의 주요 목적은 2024년 상반기 마케팅 전략을 수립하고, 새로운 소셜 미디어 캠페인에 대한 아이디어를 논의하는 것이었다. 팀장인 김수진은 최근 시장 동향에 대한 간략한 개요를 제공했으며, 이어서 각 팀원이 자신의 분야에서의 전략적 아이디어를 발표했다.',\n",
       "  'instruction': '당신은 회의록 작성 전문가 입니다. 주어진 정보를 바탕으로 회의록을 작성해 주세요',\n",
       "  'answer': '\\n         회의록: XYZ 회사 마케팅 전략 회의\\n         일시: 2023년 12월 25일\\n         장소: XYZ 회사 회의실\\n         참석자: 김수진 (마케팅 팀장), 박지민 (디지털 마케팅 담당자), 이준호 (소셜 미디어 관리자)\\n\\n         1. 개회\\n            - 회의는 김수진 팀장의 개회사로 시작됨.\\n            - 회의의 목적은 2024년 상반기 마케팅 전략 수립 및 새로운 소셜 미디어 캠페인 아이디어 논의.\\n\\n         2. 시장 동향 개요 (김수진)\\n            - 김수진 팀장은 최근 시장 동향에 대한 분석을 제시.\\n            - 소비자 행동 변화와 경쟁사 전략에 대한 통찰 공유.\\n\\n         3. 디지털 마케팅 전략 (박지민)\\n            - 박지민은 디지털 마케팅 전략에 대해 발표.\\n            - 온라인 광고와 SEO 최적화 방안에 중점을 둠.\\n\\n         4. 소셜 미디어 캠페인 (이준호)\\n            - 이준호는 새로운 소셜 미디어 캠페인에 대한 아이디어를 제안.\\n            - 인플루언서 마케팅과 콘텐츠 전략에 대한 계획을 설명함.\\n\\n         5. 종합 논의\\n            - 팀원들 간의 아이디어 공유 및 토론.\\n            - 각 전략에 대한 예산 및 자원 배분에 대해 논의.\\n\\n         6. 마무리\\n            - 다음 회의 날짜 및 시간 확정.\\n            - 회의록 정리 및 배포는 박지민 담당.\\n         '}]"
      ]
     },
     "execution_count": 40,
     "metadata": {},
     "output_type": "execute_result"
    }
   ],
   "source": [
    "question = {\n",
    "    \"instruction\": \"회의록을 작성해 주세요\",\n",
    "    \"input\": \"2023년 12월 26일, ABC 기술 회사의 제품 개발 팀은 새로운 모바일 애플리케이션 프로젝트에 대한 주간 진행 상황 회의를 가졌다. 이 회의에는 프로젝트 매니저인 최현수, 주요 개발자인 황지연, UI/UX 디자이너인 김태영이 참석했다. 회의의 주요 목적은 프로젝트의 현재 진행 상황을 검토하고, 다가오는 마일스톤에 대한 계획을 수립하는 것이었다. 각 팀원은 자신의 작업 영역에 대한 업데이트를 제공했고, 팀은 다음 주까지의 목표를 설정했다.\",\n",
    "}\n",
    "\n",
    "example_selector.select_examples(question)"
   ]
  },
  {
   "cell_type": "markdown",
   "id": "2eacc1f8",
   "metadata": {},
   "source": [
    "- 가장 유사한 예제를 기반으로한 답변"
   ]
  },
  {
   "cell_type": "code",
   "execution_count": 41,
   "id": "19dbb2e1",
   "metadata": {},
   "outputs": [],
   "source": [
    "final_prompt = ChatPromptTemplate.from_messages(\n",
    "    [\n",
    "        (\n",
    "            \"system\",\n",
    "            \"You are a helpful assistant.\",\n",
    "        ),\n",
    "        few_shot_prompt,\n",
    "        (\"human\", \"{instruction}\\n{input}\"),\n",
    "    ]\n",
    ")"
   ]
  },
  {
   "cell_type": "code",
   "execution_count": 42,
   "id": "f9b2cccf",
   "metadata": {},
   "outputs": [
    {
     "name": "stdout",
     "output_type": "stream",
     "text": [
      "**회의록: ABC 기술 회사 제품 개발 팀 주간 진행 상황 회의**  \n",
      "**일시:** 2023년 12월 26일  \n",
      "**장소:** ABC 기술 회사 회의실  \n",
      "**참석자:** 최현수 (프로젝트 매니저), 황지연 (주요 개발자), 김태영 (UI/UX 디자이너)  \n",
      "\n",
      "---\n",
      "\n",
      "### 1. 개회\n",
      "- 회의는 최현수 프로젝트 매니저의 개회사로 시작됨.  \n",
      "- 회의의 주요 목적은 새로운 모바일 애플리케이션 프로젝트의 현재 진행 상황 검토 및 다가오는 마일스톤 계획 수립.\n",
      "\n",
      "### 2. 진행 상황 보고\n",
      "- **최현수 (프로젝트 매니저)**\n",
      "  - 전반적인 프로젝트 일정 및 현황 점검.\n",
      "  - 진행 중인 작업의 타임라인에 대해 설명.\n",
      "  \n",
      "- **황지연 (주요 개발자)**\n",
      "  - 개발 진행 상황에 대한 업데이트 제공.\n",
      "  - 현재 완료된 기능과 남은 개발 작업에 대해 보고.\n",
      "\n",
      "- **김태영 (UI/UX 디자이너)**\n",
      "  - 디자인 작업 진행 상황 및 피드백 수렴 결과 공유.\n",
      "  - 사용자 테스트 결과에 대한 논의.\n",
      "\n",
      "### 3. 다가오는 마일스톤 계획\n",
      "- 각 팀원은 다음 주까지의 구체적 목표 설정.\n",
      "- 마일스톤 달성을 위한 필요한 리소스 및 지원 사항 검토.\n",
      "\n",
      "### 4. 종합 논의\n",
      "- 팀원 간의 아이디어 및 피드백 공유.\n",
      "- 발생 가능한 문제점 및 해결 방안 논의.\n",
      "  \n",
      "### 5. 마무리\n",
      "- 다음 회의 일정 및 안건 확정.\n",
      "- 회의록 작성 및 배포는 최현수 담당.  \n",
      "\n",
      "---\n",
      "\n",
      "**회의 종료:** 오후 4시 30분.  \n",
      "**작성자:** 최현수 (프로젝트 매니저)"
     ]
    }
   ],
   "source": [
    "chain = final_prompt | llm\n",
    "answer = chain.stream(question)\n",
    "for chunk in answer:\n",
    "    if chunk:\n",
    "        print(chunk.content, end='', flush=True)"
   ]
  },
  {
   "cell_type": "markdown",
   "id": "add66b84",
   "metadata": {},
   "source": [
    "<br>\n",
    "\n",
    "### `Example Selector` 의 유사도 검색 문제 해결\n",
    "- 유사도 계산시 `instruction` 과 `input` 을 사용하고 있지만, `instruction` 만 사용하여 검색시 제대로된 유사도 결과가 나오지 않음\n",
    "\n",
    "    $\\rightarrow$ 커스텀 유사도 계산을 위한 클래스를 정의\n",
    "    \n",
    "<br>\n",
    "\n",
    "- 잘못 검색된 결과의 예시"
   ]
  },
  {
   "cell_type": "code",
   "execution_count": 43,
   "id": "b227fcd9",
   "metadata": {},
   "outputs": [
    {
     "data": {
      "text/plain": [
       "[{'input': '우리 회사는 새로운 마케팅 전략을 도입하려고 한다. 이를 통해 고객과의 소통이 더 효과적이 될 것이다.',\n",
       "  'answer': '본 회사는 새로운 마케팅 전략을 도입함으로써, 고객과의 소통을 보다 효과적으로 개선할 수 있을 것으로 기대된다.',\n",
       "  'instruction': '당신은 문장 교정 전문가 입니다. 다음 주어진 문장을 교정해 주세요'}]"
      ]
     },
     "execution_count": 43,
     "metadata": {},
     "output_type": "execute_result"
    }
   ],
   "source": [
    "question = {\n",
    "    \"instruction\": \"회의록을 작성해 주세요\",\n",
    "}\n",
    "\n",
    "example_selector.select_examples(question)"
   ]
  },
  {
   "cell_type": "markdown",
   "id": "3f4ce9bd",
   "metadata": {},
   "source": [
    "- 커스텀 하지 않은 기본 예제 선택기를 사용했을 때 결과"
   ]
  },
  {
   "cell_type": "code",
   "execution_count": 44,
   "id": "d83c7b93",
   "metadata": {},
   "outputs": [
    {
     "data": {
      "text/plain": [
       "[{'answer': '본 회사는 새로운 마케팅 전략을 도입함으로써, 고객과의 소통을 보다 효과적으로 개선할 수 있을 것으로 기대된다.',\n",
       "  'input': '우리 회사는 새로운 마케팅 전략을 도입하려고 한다. 이를 통해 고객과의 소통이 더 효과적이 될 것이다.',\n",
       "  'instruction': '당신은 문장 교정 전문가 입니다. 다음 주어진 문장을 교정해 주세요'}]"
      ]
     },
     "execution_count": 44,
     "metadata": {},
     "output_type": "execute_result"
    }
   ],
   "source": [
    "example_selector.select_examples({\"instruction\": \"다음 문장을 요약해 주세요\"})"
   ]
  },
  {
   "cell_type": "markdown",
   "id": "15043ba8",
   "metadata": {},
   "source": [
    "- 커스텀 예제 선택기 생성"
   ]
  },
  {
   "cell_type": "code",
   "execution_count": null,
   "id": "1c2f3ca9",
   "metadata": {},
   "outputs": [],
   "source": [
    "from langchain_teddynote.prompts import CustomExampleSelector"
   ]
  },
  {
   "cell_type": "code",
   "execution_count": 46,
   "id": "b9b2b45f",
   "metadata": {},
   "outputs": [],
   "source": [
    "custom_selector = CustomExampleSelector(examples, OpenAIEmbeddings())"
   ]
  },
  {
   "cell_type": "markdown",
   "id": "4b0ef263",
   "metadata": {},
   "source": [
    "- 커스텀 예제 선택기를 사용했을 때 결과\n"
   ]
  },
  {
   "cell_type": "code",
   "execution_count": 47,
   "id": "9d2169b9",
   "metadata": {},
   "outputs": [
    {
     "data": {
      "text/plain": [
       "[{'instruction': '당신은 문장 교정 전문가 입니다. 다음 주어진 문장을 교정해 주세요',\n",
       "  'input': '우리 회사는 새로운 마케팅 전략을 도입하려고 한다. 이를 통해 고객과의 소통이 더 효과적이 될 것이다.',\n",
       "  'answer': '본 회사는 새로운 마케팅 전략을 도입함으로써, 고객과의 소통을 보다 효과적으로 개선할 수 있을 것으로 기대된다.'}]"
      ]
     },
     "execution_count": 47,
     "metadata": {},
     "output_type": "execute_result"
    }
   ],
   "source": [
    "custom_selector.select_examples({\"instruction\": \"다음 문장을 교정 작성해 주세요\"})"
   ]
  },
  {
   "cell_type": "code",
   "execution_count": 48,
   "id": "23ccc7ce",
   "metadata": {},
   "outputs": [],
   "source": [
    "example_prompt = ChatPromptTemplate.from_messages(\n",
    "    [\n",
    "        (\"human\", \"{instruction}:\\n{input}\"),\n",
    "        (\"ai\", \"{answer}\"),\n",
    "    ]\n",
    ")"
   ]
  },
  {
   "cell_type": "code",
   "execution_count": null,
   "id": "91a591d9",
   "metadata": {},
   "outputs": [],
   "source": [
    "custom_fewshot_prompt = FewShotChatMessagePromptTemplate(\n",
    "    example_selector=custom_selector,  # 커스텀 예제 선택기 사용\n",
    "    example_prompt=example_prompt,  \n",
    ")"
   ]
  },
  {
   "cell_type": "code",
   "execution_count": 50,
   "id": "1dbf170c",
   "metadata": {},
   "outputs": [],
   "source": [
    "custom_prompt = ChatPromptTemplate.from_messages(\n",
    "    [\n",
    "        (\n",
    "            \"system\",\n",
    "            \"You are a helpful assistant.\",\n",
    "        ),\n",
    "        custom_fewshot_prompt,\n",
    "        (\"human\", \"{instruction}\\n{input}\"),\n",
    "    ]\n",
    ")"
   ]
  },
  {
   "cell_type": "code",
   "execution_count": 51,
   "id": "21d14de4",
   "metadata": {},
   "outputs": [],
   "source": [
    "chain = custom_prompt | llm"
   ]
  },
  {
   "cell_type": "code",
   "execution_count": 52,
   "id": "1c8466e1",
   "metadata": {},
   "outputs": [
    {
     "name": "stdout",
     "output_type": "stream",
     "text": [
      "### 회의록: ABC 기술 회사 제품 개발 팀 주간 진행 상황 회의\n",
      "\n",
      "**일시**: 2023년 12월 26일  \n",
      "**장소**: ABC 기술 회사 회의실  \n",
      "**참석자**: 최현수 (프로젝트 매니저), 황지연 (주요 개발자), 김태영 (UI/UX 디자이너)\n",
      "\n",
      "---\n",
      "\n",
      "**1. 개회**  \n",
      "- 최현수 프로젝트 매니저의 개회사로 회의 시작.  \n",
      "- 회의의 주요 목적: 새로운 모바일 애플리케이션 프로젝트의 진행 상황 검토 및 다가오는 마일스톤 계획 수립.\n",
      "\n",
      "**2. 진행 상황 보고**  \n",
      "- **최현수 (프로젝트 매니저)**  \n",
      "  - 전체 프로젝트 일정 및 현재 상태를 개괄.  \n",
      "  - 각 팀원에게 진행 상황 피드백 요청.\n",
      "\n",
      "- **황지연 (주요 개발자)**  \n",
      "  - 백엔드 개발 진행 상황 보고.  \n",
      "  - 주요 기능 구현 완료 상황 및 문제점에 대해 설명.  \n",
      "  - 데이터베이스 구조 변경 사항 논의.\n",
      "\n",
      "- **김태영 (UI/UX 디자이너)**  \n",
      "  - 현재 UI/UX 디자인 초안 진행 상황 공유.  \n",
      "  - 사용자 피드백 반영 과정 및 수정 작업에 대한 업데이트.  \n",
      "  - 몇 가지 디자인 요소에 대한 제안과 논의.\n",
      "\n",
      "**3. 마일스톤 계획**  \n",
      "- 팀원들은 다음 주까지 달성할 목표에 대해 협의.  \n",
      "- 각자 역할에 따라 세부 목표 및 마감일 설정:  \n",
      "  - 황지연은 기능 테스트 및 버그 수정 완료.  \n",
      "  - 김태영은 최종 디자인 리뷰 및 피드백 반영 완료.\n",
      "\n",
      "**4. 이슈 및 논의**  \n",
      "- 프로젝트 일정과 관련된 잠재적 문제점 논의.  \n",
      "- 필요한 추가 자원이나 지원 요청 사항 정리.\n",
      "\n",
      "**5. 마무리**  \n",
      "- 다음 회의 일정 설정: 2024년 1월 2일.  \n",
      "- 최현수의 회의 진행에 대한 감사 인사로 회의 종료.  \n",
      "- 회의록 정리는 김태영이 담당하기로 함.\n",
      "\n",
      "--- \n",
      "\n",
      "회의 종료 시각: 오후 4시 30분"
     ]
    }
   ],
   "source": [
    "question = {\n",
    "    \"instruction\": \"회의록을 작성해 주세요\",\n",
    "    \"input\": \"2023년 12월 26일, ABC 기술 회사의 제품 개발 팀은 새로운 모바일 애플리케이션 프로젝트에 대한 주간 진행 상황 회의를 가졌다. 이 회의에는 프로젝트 매니저인 최현수, 주요 개발자인 황지연, UI/UX 디자이너인 김태영이 참석했다. 회의의 주요 목적은 프로젝트의 현재 진행 상황을 검토하고, 다가오는 마일스톤에 대한 계획을 수립하는 것이었다. 각 팀원은 자신의 작업 영역에 대한 업데이트를 제공했고, 팀은 다음 주까지의 목표를 설정했다.\",\n",
    "}\n",
    "\n",
    "for chunk in chain.stream(question):\n",
    "    \n",
    "    print(chunk.content, end='', flush=True)"
   ]
  },
  {
   "cell_type": "code",
   "execution_count": 53,
   "id": "10f56f21",
   "metadata": {},
   "outputs": [
    {
     "name": "stdout",
     "output_type": "stream",
     "text": [
      "문서 요약: 2023년 글로벌 경제 전망 보고서\n",
      "\n",
      "- **현재 상태**: 세계 경제의 현재 상황을 평가하고, 주요 국가들의 경제 성장률을 분석.\n",
      "- **경제 성장률**: 주요 국가들(미국, 중국, 유럽연합 등)의 경제 성장률 변화를 통계적으로 제시.\n",
      "- **글로벌 무역 동향**: 최근의 글로벌 무역 트렌드 및 주요 흐름을 설명, 특히 수출입 변화와 새로운 무역 협정 등을 분석.\n",
      "- **미래 예측**: 2024년을 포함한 다가오는 해에 대한 경제 전망을 다양한 시나리오로 제시.\n",
      "- **영향 요인**: 경제적, 정치적, 환경적 요인들이 세계 경제에 미칠 잠재적 영향을 분석하며, 이러한 요인들이 경제 성장에 미치는 장단기적 효과를 평가.\n",
      "\n",
      "이 보고서는 글로벌 경제의 복잡한 변화와 전망에 대한 종합적인 분석을 제공하며, 앞으로의 경제 정책 수립을 위한 기초 자료로 활용될 수 있습니다."
     ]
    }
   ],
   "source": [
    "question = {\n",
    "    \"instruction\": \"문서를 요약해 주세요\",\n",
    "    \"input\": \"이 문서는 '2023년 글로벌 경제 전망'에 관한 30페이지에 달하는 상세한 보고서입니다. 보고서는 세계 경제의 현재 상태, 주요 국가들의 경제 성장률, 글로벌 무역 동향, 그리고 다가오는 해에 대한 경제 예측을 다룹니다. 이 보고서는 또한 다양한 경제적, 정치적, 환경적 요인들이 세계 경제에 미칠 영향을 분석하고 있습니다.\",\n",
    "}\n",
    "\n",
    "for chunk in chain.stream(question):\n",
    "    \n",
    "    print(chunk.content, end='', flush=True)"
   ]
  },
  {
   "cell_type": "code",
   "execution_count": 54,
   "id": "30bc8d72",
   "metadata": {},
   "outputs": [
    {
     "name": "stdout",
     "output_type": "stream",
     "text": [
      "회사는 올해 매출이 증가할 것으로 예상하고 있으며, 새로운 전략이 잘 작동하고 있다."
     ]
    }
   ],
   "source": [
    "question = {\n",
    "    \"instruction\": \"문장을 교정해 주세요\",\n",
    "    \"input\": \"회사는 올해 매출이 증가할 것으로 예상한다. 새로운 전략이 잘 작동하고 있다.\",\n",
    "}\n",
    "\n",
    "for chunk in chain.stream(question):\n",
    "   \n",
    "    print(chunk.content, end='', flush=True)"
   ]
  },
  {
   "cell_type": "markdown",
   "id": "66c7c38c",
   "metadata": {},
   "source": [
    "<br>\n",
    "\n",
    "<hr>\n",
    "\n",
    "<br>\n",
    "\n",
    "## 02-03. LangChain Hub\n",
    "\n",
    "<br>\n",
    "\n",
    "### Hub로부터 Prompt 받아오기\n",
    "\n",
    "<br>\n",
    "\n",
    "#### Prompt Hub\n",
    "- LangChain에는 GitHub처럼 “공유 가능한 프롬프트 저장소” 개념이 존재\n",
    "    - 주소: https://smith.langchain.com/hub (공식 Prompt Hub)"
   ]
  },
  {
   "cell_type": "code",
   "execution_count": 9,
   "id": "709c0409",
   "metadata": {},
   "outputs": [],
   "source": [
    "from langchain import hub"
   ]
  },
  {
   "cell_type": "code",
   "execution_count": 10,
   "id": "cc29b69a",
   "metadata": {},
   "outputs": [],
   "source": [
    "prompt = hub.pull(\"rlm/rag-prompt\")"
   ]
  },
  {
   "cell_type": "code",
   "execution_count": 11,
   "id": "0484043d",
   "metadata": {},
   "outputs": [
    {
     "name": "stdout",
     "output_type": "stream",
     "text": [
      "input_variables=['context', 'question'] input_types={} partial_variables={} metadata={'lc_hub_owner': 'rlm', 'lc_hub_repo': 'rag-prompt', 'lc_hub_commit_hash': '50442af133e61576e74536c6556cefe1fac147cad032f4377b60c436e6cdcb6e'} messages=[HumanMessagePromptTemplate(prompt=PromptTemplate(input_variables=['context', 'question'], input_types={}, partial_variables={}, template=\"You are an assistant for question-answering tasks. Use the following pieces of retrieved context to answer the question. If you don't know the answer, just say that you don't know. Use three sentences maximum and keep the answer concise.\\nQuestion: {question} \\nContext: {context} \\nAnswer:\"), additional_kwargs={})]\n"
     ]
    }
   ],
   "source": [
    "print(prompt)"
   ]
  },
  {
   "cell_type": "markdown",
   "id": "1517fa1d",
   "metadata": {},
   "source": [
    "- 특정 버전의 프롬프트를 가져오려면 버전 해시를 지정"
   ]
  },
  {
   "cell_type": "code",
   "execution_count": 12,
   "id": "09b775dc",
   "metadata": {},
   "outputs": [
    {
     "data": {
      "text/plain": [
       "ChatPromptTemplate(input_variables=['context', 'question'], input_types={}, partial_variables={}, metadata={'lc_hub_owner': 'rlm', 'lc_hub_repo': 'rag-prompt', 'lc_hub_commit_hash': '50442af133e61576e74536c6556cefe1fac147cad032f4377b60c436e6cdcb6e'}, messages=[HumanMessagePromptTemplate(prompt=PromptTemplate(input_variables=['context', 'question'], input_types={}, partial_variables={}, template=\"You are an assistant for question-answering tasks. Use the following pieces of retrieved context to answer the question. If you don't know the answer, just say that you don't know. Use three sentences maximum and keep the answer concise.\\nQuestion: {question} \\nContext: {context} \\nAnswer:\"), additional_kwargs={})])"
      ]
     },
     "execution_count": 12,
     "metadata": {},
     "output_type": "execute_result"
    }
   ],
   "source": [
    "prompt = hub.pull(\"rlm/rag-prompt:50442af1\")\n",
    "prompt"
   ]
  },
  {
   "cell_type": "markdown",
   "id": "d8376be4",
   "metadata": {},
   "source": [
    "<br>\n",
    "\n",
    "### Prompt Hub 에 프롬프트 등록"
   ]
  },
  {
   "cell_type": "code",
   "execution_count": 23,
   "id": "e80e2132",
   "metadata": {},
   "outputs": [],
   "source": [
    "from langsmith import Client"
   ]
  },
  {
   "cell_type": "code",
   "execution_count": 14,
   "id": "79aae17f",
   "metadata": {},
   "outputs": [
    {
     "data": {
      "text/plain": [
       "ChatPromptTemplate(input_variables=['context'], input_types={}, partial_variables={}, messages=[HumanMessagePromptTemplate(prompt=PromptTemplate(input_variables=['context'], input_types={}, partial_variables={}, template='주어진 내용을 바탕으로 다음 문장을 요약하세요. 답변은 반드시 한글로 작성하세요\\n\\nCONTEXT: {context}\\n\\nSUMMARY:'), additional_kwargs={})])"
      ]
     },
     "execution_count": 14,
     "metadata": {},
     "output_type": "execute_result"
    }
   ],
   "source": [
    "prompt = ChatPromptTemplate.from_template(\n",
    "    \"주어진 내용을 바탕으로 다음 문장을 요약하세요. 답변은 반드시 한글로 작성하세요\\n\\nCONTEXT: {context}\\n\\nSUMMARY:\"\n",
    ")\n",
    "\n",
    "prompt"
   ]
  },
  {
   "cell_type": "markdown",
   "id": "ca37d9ac",
   "metadata": {},
   "source": [
    "- 계정 확인"
   ]
  },
  {
   "cell_type": "code",
   "execution_count": 24,
   "id": "5eddffad",
   "metadata": {},
   "outputs": [],
   "source": [
    "client = Client()"
   ]
  },
  {
   "cell_type": "code",
   "execution_count": 21,
   "id": "a10b35b3",
   "metadata": {},
   "outputs": [
    {
     "data": {
      "text/plain": [
       "Prompt(repo_handle='simple-summary-korean', description='한국어 요약용 프롬프트', readme='', id='768b6c99-b544-4a2a-bcdc-41c4ea196669', tenant_id='5ede379f-7d77-4421-a6dc-44285dc72ab3', created_at=datetime.datetime(2025, 10, 1, 8, 4, 11, 93478), updated_at=datetime.datetime(2025, 10, 1, 8, 4, 11, 93478), is_public=False, is_archived=False, tags=[], original_repo_id=None, upstream_repo_id=None, owner=None, full_name='simple-summary-korean', num_likes=0, num_downloads=0, num_views=0, liked_by_auth_user=False, last_commit_hash=None, num_commits=0, original_repo_full_name=None, upstream_repo_full_name=None)"
      ]
     },
     "execution_count": 21,
     "metadata": {},
     "output_type": "execute_result"
    }
   ],
   "source": [
    "client.create_prompt(\n",
    "    prompt_identifier=\"simple-summary-korean\",\n",
    "    description=\"한국어 요약용 프롬프트\",\n",
    "    is_public=False\n",
    ")"
   ]
  },
  {
   "cell_type": "code",
   "execution_count": 22,
   "id": "7100f1b7",
   "metadata": {},
   "outputs": [
    {
     "data": {
      "text/plain": [
       "'https://smith.langchain.com/prompts/simple-summary-korean/de93adb6?organizationId=5ede379f-7d77-4421-a6dc-44285dc72ab3'"
      ]
     },
     "execution_count": 22,
     "metadata": {},
     "output_type": "execute_result"
    }
   ],
   "source": [
    "client.push_prompt(\n",
    "    \"simple-summary-korean\",\n",
    "    object=prompt\n",
    ")"
   ]
  },
  {
   "cell_type": "markdown",
   "id": "5328207a",
   "metadata": {},
   "source": [
    "<br>\n",
    "\n",
    "<hr>\n",
    "\n",
    "<br>\n",
    "\n",
    "## 02-04. 개인화된 프롬프트"
   ]
  },
  {
   "cell_type": "markdown",
   "id": "010c97d1",
   "metadata": {},
   "source": [
    "<br>\n",
    "\n",
    "#### 요약: Stuff Documents : 문장을 핵심만 이모지와 함께 불릿 포인트로 요약하는 요청"
   ]
  },
  {
   "cell_type": "code",
   "execution_count": 25,
   "id": "65f539b9",
   "metadata": {},
   "outputs": [],
   "source": [
    "prompt_title = \"summary-stuff-documents\""
   ]
  },
  {
   "cell_type": "markdown",
   "id": "079bb393",
   "metadata": {},
   "source": [
    "- 요약문을 작성하기 위한 프롬프트 정의 (직접 프롬프트를 작성하는 경우)\n"
   ]
  },
  {
   "cell_type": "code",
   "execution_count": 27,
   "id": "bbf59cb5",
   "metadata": {},
   "outputs": [
    {
     "data": {
      "text/plain": [
       "PromptTemplate(input_variables=['context'], input_types={}, partial_variables={}, template='Please summarize the sentence according to the following REQUEST.\\n    REQUEST:\\n    1. Summarize the main points in bullet points.\\n    2. Each summarized sentence must start with an emoji that fits the meaning of the each sentence.\\n    3. Use various emojis to make the summary more interesting.\\n    4. DO NOT include any unnecessary information.\\n\\n    CONTEXT:\\n    {context}\\n\\n    SUMMARY:\"\\n')"
      ]
     },
     "execution_count": 27,
     "metadata": {},
     "output_type": "execute_result"
    }
   ],
   "source": [
    "prompt_template = \"\"\"Please summarize the sentence according to the following REQUEST.\n",
    "    REQUEST:\n",
    "    1. Summarize the main points in bullet points.\n",
    "    2. Each summarized sentence must start with an emoji that fits the meaning of the each sentence.\n",
    "    3. Use various emojis to make the summary more interesting.\n",
    "    4. DO NOT include any unnecessary information.\n",
    "\n",
    "    CONTEXT:\n",
    "    {context}\n",
    "\n",
    "    SUMMARY:\"\n",
    "\"\"\"\n",
    "prompt = PromptTemplate.from_template(prompt_template)\n",
    "prompt"
   ]
  },
  {
   "cell_type": "code",
   "execution_count": 28,
   "id": "5ea3eb7e",
   "metadata": {},
   "outputs": [
    {
     "data": {
      "text/plain": [
       "'https://smith.langchain.com/prompts/summary-stuff-documents/af418379?organizationId=5ede379f-7d77-4421-a6dc-44285dc72ab3'"
      ]
     },
     "execution_count": 28,
     "metadata": {},
     "output_type": "execute_result"
    }
   ],
   "source": [
    "client.create_prompt(\n",
    "    prompt_identifier=prompt_title,\n",
    "    is_public=False\n",
    ")\n",
    "\n",
    "client.push_prompt(\n",
    "    prompt_title,\n",
    "    object=prompt\n",
    ")"
   ]
  },
  {
   "cell_type": "markdown",
   "id": "7a7b17e2",
   "metadata": {},
   "source": [
    "<br>\n",
    "\n",
    "#### Map Prompt\n",
    "- 문서의 주요 주제를 핵심만 번호 목록 형태로 요약하는 요청"
   ]
  },
  {
   "cell_type": "code",
   "execution_count": 29,
   "id": "d045e9f0",
   "metadata": {},
   "outputs": [],
   "source": [
    "prompt_title = \"map-prompt\""
   ]
  },
  {
   "cell_type": "code",
   "execution_count": 30,
   "id": "f023a65b",
   "metadata": {},
   "outputs": [
    {
     "data": {
      "text/plain": [
       "PromptTemplate(input_variables=['docs'], input_types={}, partial_variables={}, template='You are a helpful expert journalist in extracting the main themes from a GIVEN DOCUMENTS below.\\n    Please provide a comprehensive summary of the GIVEN DOCUMENTS in numbered list format. \\n    The summary should cover all the key points and main ideas presented in the original text, while also condensing the information into a concise and easy-to-understand format. \\n    Please ensure that the summary includes relevant details and examples that support the main ideas, while avoiding any unnecessary information or repetition. \\n    The length of the summary should be appropriate for the length and complexity of the original text, providing a clear and accurate overview without omitting any important information.\\n\\n    GIVEN DOCUMENTS:\\n    {docs}\\n\\n    FORMAT:\\n    1. main theme 1\\n    2. main theme 2\\n    3. main theme 3\\n    ...\\n\\n    CAUTION:\\n    - DO NOT list more than 5 main themes.\\n\\n    Helpful Answer:\\n')"
      ]
     },
     "execution_count": 30,
     "metadata": {},
     "output_type": "execute_result"
    }
   ],
   "source": [
    "prompt_template = \"\"\"You are a helpful expert journalist in extracting the main themes from a GIVEN DOCUMENTS below.\n",
    "    Please provide a comprehensive summary of the GIVEN DOCUMENTS in numbered list format. \n",
    "    The summary should cover all the key points and main ideas presented in the original text, while also condensing the information into a concise and easy-to-understand format. \n",
    "    Please ensure that the summary includes relevant details and examples that support the main ideas, while avoiding any unnecessary information or repetition. \n",
    "    The length of the summary should be appropriate for the length and complexity of the original text, providing a clear and accurate overview without omitting any important information.\n",
    "\n",
    "    GIVEN DOCUMENTS:\n",
    "    {docs}\n",
    "\n",
    "    FORMAT:\n",
    "    1. main theme 1\n",
    "    2. main theme 2\n",
    "    3. main theme 3\n",
    "    ...\n",
    "\n",
    "    CAUTION:\n",
    "    - DO NOT list more than 5 main themes.\n",
    "\n",
    "    Helpful Answer:\n",
    "\"\"\"\n",
    "\n",
    "prompt = PromptTemplate.from_template(prompt_template)\n",
    "prompt"
   ]
  },
  {
   "cell_type": "code",
   "execution_count": 31,
   "id": "a82af0fd",
   "metadata": {},
   "outputs": [
    {
     "data": {
      "text/plain": [
       "'https://smith.langchain.com/prompts/map-prompt/291cf33a?organizationId=5ede379f-7d77-4421-a6dc-44285dc72ab3'"
      ]
     },
     "execution_count": 31,
     "metadata": {},
     "output_type": "execute_result"
    }
   ],
   "source": [
    "client.create_prompt(\n",
    "    prompt_identifier=prompt_title,\n",
    "    is_public=False\n",
    ")\n",
    "\n",
    "client.push_prompt(\n",
    "    prompt_title,\n",
    "    object=prompt\n",
    ")"
   ]
  },
  {
   "cell_type": "markdown",
   "id": "d0451a07",
   "metadata": {},
   "source": [
    "<br>\n",
    "\n",
    "#### Reduce Prompt\n",
    "- 여러 요약 목록에서 핵심 인사이트 10가지를 추출해 한국어로 요약하는 요청"
   ]
  },
  {
   "cell_type": "code",
   "execution_count": 33,
   "id": "a9139a9f",
   "metadata": {},
   "outputs": [],
   "source": [
    "prompt_title = \"reduce-prompt\""
   ]
  },
  {
   "cell_type": "code",
   "execution_count": 34,
   "id": "ddad0744",
   "metadata": {},
   "outputs": [
    {
     "data": {
      "text/plain": [
       "PromptTemplate(input_variables=['doc_summaries'], input_types={}, partial_variables={}, template='You are a helpful expert in summary writing.\\n    You are given numbered lists of summaries.\\n    Extract top 10 most important insights from the summaries.\\n    Then, write a summary of the insights in KOREAN.\\n\\n    LIST OF SUMMARIES:\\n    {doc_summaries}\\n\\n    Helpful Answer:\\n')"
      ]
     },
     "execution_count": 34,
     "metadata": {},
     "output_type": "execute_result"
    }
   ],
   "source": [
    "prompt_template = \"\"\"You are a helpful expert in summary writing.\n",
    "    You are given numbered lists of summaries.\n",
    "    Extract top 10 most important insights from the summaries.\n",
    "    Then, write a summary of the insights in KOREAN.\n",
    "\n",
    "    LIST OF SUMMARIES:\n",
    "    {doc_summaries}\n",
    "\n",
    "    Helpful Answer:\n",
    "\"\"\"\n",
    "prompt = PromptTemplate.from_template(prompt_template)\n",
    "prompt"
   ]
  },
  {
   "cell_type": "code",
   "execution_count": 35,
   "id": "93278e43",
   "metadata": {},
   "outputs": [
    {
     "data": {
      "text/plain": [
       "'https://smith.langchain.com/prompts/reduce-prompt/1a20d9d3?organizationId=5ede379f-7d77-4421-a6dc-44285dc72ab3'"
      ]
     },
     "execution_count": 35,
     "metadata": {},
     "output_type": "execute_result"
    }
   ],
   "source": [
    "client.create_prompt(\n",
    "    prompt_identifier=prompt_title,\n",
    "    is_public=False\n",
    ")\n",
    "\n",
    "client.push_prompt(\n",
    "    prompt_title,\n",
    "    object=prompt\n",
    ")"
   ]
  },
  {
   "cell_type": "markdown",
   "id": "ca508059",
   "metadata": {},
   "source": [
    "<br>\n",
    "\n",
    "- 이전에 요약된 문장을 기반으로 핵심 내용을 중요도 순서대로 이모지와 함께 불릿 포인트로 한국어 요약하는 요청"
   ]
  },
  {
   "cell_type": "code",
   "execution_count": 36,
   "id": "e9f0c689",
   "metadata": {},
   "outputs": [],
   "source": [
    "prompt_title = \"chain-of-density-reduce-korean\""
   ]
  },
  {
   "cell_type": "code",
   "execution_count": 37,
   "id": "4a87cbb9",
   "metadata": {},
   "outputs": [],
   "source": [
    "prompt_template = \"\"\"You are a helpful expert in summary writing. You are given lists of summaries.\n",
    "    Please sum up previously summarized sentences according to the following REQUEST.\n",
    "    REQUEST:\n",
    "    1. Summarize the main points in bullet points in KOREAN.\n",
    "    2. Each summarized sentence must start with an emoji that fits the meaning of the each sentence.\n",
    "    3. Use various emojis to make the summary more interesting.\n",
    "    4. MOST IMPORTANT points should be organized at the top of the list.\n",
    "    5. DO NOT include any unnecessary information.\n",
    "\n",
    "    LIST OF SUMMARIES:\n",
    "    {doc_summaries}\n",
    "\n",
    "    Helpful Answer: \n",
    "\"\"\""
   ]
  },
  {
   "cell_type": "code",
   "execution_count": 38,
   "id": "2c73a695",
   "metadata": {},
   "outputs": [
    {
     "data": {
      "text/plain": [
       "'https://smith.langchain.com/prompts/chain-of-density-reduce-korean/1a20d9d3?organizationId=5ede379f-7d77-4421-a6dc-44285dc72ab3'"
      ]
     },
     "execution_count": 38,
     "metadata": {},
     "output_type": "execute_result"
    }
   ],
   "source": [
    "client.create_prompt(\n",
    "    prompt_identifier=prompt_title,\n",
    "    is_public=False\n",
    ")\n",
    "\n",
    "client.push_prompt(\n",
    "    prompt_title,\n",
    "    object=prompt\n",
    ")"
   ]
  },
  {
   "cell_type": "markdown",
   "id": "49429bf7",
   "metadata": {},
   "source": [
    "<br>\n",
    "\n",
    "#### Metadata Tagger\n",
    "- 제품 리뷰에서 키감·키음·사용경험·충전·디자인 등 핵심 속성을 추출하고 감성 톤과 1~5점 평점을 판별한 뒤 디자인 평가·만족/개선 사항·키워드와 함께 JSON으로 구조화해 요약하는 요청"
   ]
  },
  {
   "cell_type": "code",
   "execution_count": 39,
   "id": "3752d592",
   "metadata": {},
   "outputs": [],
   "source": [
    "prompt_title = \"metadata-tagger\""
   ]
  },
  {
   "cell_type": "code",
   "execution_count": null,
   "id": "3756c3e1",
   "metadata": {},
   "outputs": [],
   "source": [
    "prompt_template = \"\"\"\n",
    "Given the following product review, conduct a comprehensive analysis to extract key aspects mentioned by the customer, with a focus on evaluating the product's design and distinguishing between positive aspects and areas for improvement. \n",
    "Identify primary features or attributes of the product that the customer appreciated or highlighted, specifically looking for mentions related to the feel of the keys, sound produced by the keys, overall user experience, charging aspect, and the design of the product, etc. \n",
    "Assess the overall tone of the review (positive, neutral, or negative) based on the sentiment expressed about these attributes. \n",
    "Additionally, provide a detailed evaluation of the design, outline the positive aspects that the customer enjoyed, and note any areas of improvement or disappointment mentioned. \n",
    "Extract the customer's rating of the product on a scale of 1 to 5, as indicated at the beginning of the review. \n",
    "Summarize your findings in a structured JSON format, including an array of keywords, evaluations for design, satisfaction points, improvement areas, the assessed tone, and the numerical rating. \n",
    "\n",
    "INPUT:\n",
    "{input}\n",
    "\"\"\""
   ]
  },
  {
   "cell_type": "code",
   "execution_count": 41,
   "id": "7aee425d",
   "metadata": {},
   "outputs": [
    {
     "data": {
      "text/plain": [
       "'https://smith.langchain.com/prompts/metadata-tagger/1a20d9d3?organizationId=5ede379f-7d77-4421-a6dc-44285dc72ab3'"
      ]
     },
     "execution_count": 41,
     "metadata": {},
     "output_type": "execute_result"
    }
   ],
   "source": [
    "client.create_prompt(\n",
    "    prompt_identifier=prompt_title,\n",
    "    is_public=False\n",
    ")\n",
    "\n",
    "client.push_prompt(\n",
    "    prompt_title,\n",
    "    object=prompt\n",
    ")"
   ]
  },
  {
   "cell_type": "markdown",
   "id": "954f98e5",
   "metadata": {},
   "source": [
    "<br>\n",
    "\n",
    "#### Chain of Density 요약\n",
    "- 주어진 기사에서 누락된 핵심 엔티티를 단계적으로 찾아내고, 매번 동일한 길이의 요약문을 더 압축·정보밀도 높게 갱신해 나가는 반복적 요약 생성 요청"
   ]
  },
  {
   "cell_type": "code",
   "execution_count": 42,
   "id": "f5fab971",
   "metadata": {},
   "outputs": [],
   "source": [
    "prompt_title = \"chain-of-density-korean\""
   ]
  },
  {
   "cell_type": "code",
   "execution_count": null,
   "id": "48d41ee7",
   "metadata": {},
   "outputs": [],
   "source": [
    "prompt = ChatPromptTemplate.from_template(\n",
    "    \"\"\"Article: {ARTICLE}\n",
    "    You will generate increasingly concise, entity-dense summaries of the above article. \n",
    "\n",
    "    Repeat the following 2 steps 5 times. \n",
    "\n",
    "    Step 1. Identify 1-3 informative entities (\";\" delimited) from the article which are missing from the previously generated summary. \n",
    "    Step 2. Write a new, denser summary of identical length which covers every entity and detail from the previous summary plus the missing entities. \n",
    "\n",
    "    A missing entity is:\n",
    "    - relevant to the main story, \n",
    "    - specific yet concise (100 words or fewer), \n",
    "    - novel (not in the previous summary), \n",
    "    - faithful (present in the article), \n",
    "    - anywhere (can be located anywhere in the article).\n",
    "\n",
    "    Guidelines:\n",
    "\n",
    "    - The first summary should be long (8-10 sentences, ~200 words) yet highly non-specific, containing little information beyond the entities marked as missing. Use overly verbose language and fillers (e.g., \"this article discusses\") to reach ~200 words.\n",
    "    - Make every word count: rewrite the previous summary to improve flow and make space for additional entities.\n",
    "    - Make space with fusion, compression, and removal of uninformative phrases like \"the article discusses\".\n",
    "    - The summaries should become highly dense and concise yet self-contained, i.e., easily understood without the article. \n",
    "    - Missing entities can appear anywhere in the new summary.\n",
    "    - Never drop entities from the previous summary. If space cannot be made, add fewer new entities. \n",
    "\n",
    "    Remember, use the exact same number of words for each summary.\n",
    "    Answer in JSON. The JSON should be a list (length 5) of dictionaries whose keys are \"Missing_Entities\" and \"Denser_Summary\".\n",
    "    Use only KOREAN language to reply.\n",
    "    \"\"\"\n",
    ")"
   ]
  },
  {
   "cell_type": "code",
   "execution_count": 44,
   "id": "af9dc4cf",
   "metadata": {},
   "outputs": [
    {
     "data": {
      "text/plain": [
       "'https://smith.langchain.com/prompts/chain-of-density-korean/2d444953?organizationId=5ede379f-7d77-4421-a6dc-44285dc72ab3'"
      ]
     },
     "execution_count": 44,
     "metadata": {},
     "output_type": "execute_result"
    }
   ],
   "source": [
    "client.create_prompt(\n",
    "    prompt_identifier=prompt_title,\n",
    "    is_public=False\n",
    ")\n",
    "\n",
    "client.push_prompt(\n",
    "    prompt_title,\n",
    "    object=prompt\n",
    ")"
   ]
  },
  {
   "cell_type": "markdown",
   "id": "3fca42db",
   "metadata": {},
   "source": [
    "<br>\n",
    "\n",
    "#### Chain of Density (Korean) - 2\n",
    "- 기사에서 누락된 핵심 엔티티를 단계적으로 식별하고 이를 포함해 동일한 길이의 요약문을 점점 더 압축·고밀도로 갱신하는 반복 요약 생성 요청"
   ]
  },
  {
   "cell_type": "code",
   "execution_count": 45,
   "id": "22561ce9",
   "metadata": {},
   "outputs": [],
   "source": [
    "prompt_title = \"chain-of-density-map-korean\""
   ]
  },
  {
   "cell_type": "code",
   "execution_count": null,
   "id": "9e5a9a62",
   "metadata": {},
   "outputs": [],
   "source": [
    "prompt = ChatPromptTemplate.from_template(\n",
    "    \"\"\"Article: {ARTICLE}\n",
    "    You will generate increasingly concise, entity-dense summaries of the above article. \n",
    "\n",
    "    Repeat the following 2 steps 3 times. \n",
    "\n",
    "    Step 1. Identify 1-3 informative entities (\";\" delimited) from the article which are missing from the previously generated summary. \n",
    "    Step 2. Write a new, denser summary of identical length which covers every entity and detail from the previous summary plus the missing entities. \n",
    "\n",
    "    A missing entity is:\n",
    "    - relevant to the main story, \n",
    "    - specific yet concise (100 words or fewer), \n",
    "    - novel (not in the previous summary), \n",
    "    - faithful (present in the article), \n",
    "    - anywhere (can be located anywhere in the article).\n",
    "\n",
    "    Guidelines:\n",
    "\n",
    "    - The first summary should be long (8-10 sentences, ~200 words) yet highly non-specific, containing little information beyond the entities marked as missing. Use overly verbose language and fillers (e.g., \"this article discusses\") to reach ~200 words.\n",
    "    - Make every word count: rewrite the previous summary to improve flow and make space for additional entities.\n",
    "    - Make space with fusion, compression, and removal of uninformative phrases like \"the article discusses\".\n",
    "    - The summaries should become highly dense and concise yet self-contained, i.e., easily understood without the article. \n",
    "    - Missing entities can appear anywhere in the new summary.\n",
    "    - Never drop entities from the previous summary. If space cannot be made, add fewer new entities. \n",
    "\n",
    "    Remember, use the exact same number of words for each summary.\n",
    "    Answer \"Missing Entities\" and \"Denser_Summary\" as in TEXT format.\n",
    "    Use only KOREAN language to reply.\n",
    "    \"\"\"\n",
    ")"
   ]
  },
  {
   "cell_type": "code",
   "execution_count": 47,
   "id": "5df6ed9d",
   "metadata": {},
   "outputs": [
    {
     "data": {
      "text/plain": [
       "'https://smith.langchain.com/prompts/chain-of-density-map-korean/0b372530?organizationId=5ede379f-7d77-4421-a6dc-44285dc72ab3'"
      ]
     },
     "execution_count": 47,
     "metadata": {},
     "output_type": "execute_result"
    }
   ],
   "source": [
    "client.create_prompt(\n",
    "    prompt_identifier=prompt_title,\n",
    "    is_public=False\n",
    ")\n",
    "\n",
    "client.push_prompt(\n",
    "    prompt_title,\n",
    "    object=prompt\n",
    ")"
   ]
  },
  {
   "cell_type": "markdown",
   "id": "9aec22c3",
   "metadata": {},
   "source": [
    "<br>\n",
    "\n",
    "#### RAG 문서 프롬프트"
   ]
  },
  {
   "cell_type": "code",
   "execution_count": 48,
   "id": "0098e284",
   "metadata": {},
   "outputs": [],
   "source": [
    "prompt_title = \"rag-prompt-korean\""
   ]
  },
  {
   "cell_type": "code",
   "execution_count": 49,
   "id": "7ff9a8af",
   "metadata": {},
   "outputs": [],
   "source": [
    "system = \"\"\"당신은 질문-답변(Question-Answering)을 수행하는 친절한 AI 어시스턴트입니다. 당신의 임무는 주어진 문맥(context) 에서 주어진 질문(question) 에 답하는 것입니다.\n",
    "검색된 다음 문맥(context) 을 사용하여 질문(question) 에 답하세요. 만약, 주어진 문맥(context) 에서 답을 찾을 수 없다면, 답을 모른다면 `주어진 정보에서 질문에 대한 정보를 찾을 수 없습니다` 라고 답하세요.\n",
    "한글로 답변해 주세요. 단, 기술적인 용어나 이름은 번역하지 않고 그대로 사용해 주세요. Don't narrate the answer, just answer the question. Let's think step-by-step.\"\"\"\n",
    "\n",
    "human = \"\"\"#Question: \n",
    "{question} \n",
    "\n",
    "#Context: \n",
    "{context} \n",
    "\n",
    "#Answer:\"\"\""
   ]
  },
  {
   "cell_type": "code",
   "execution_count": 50,
   "id": "394832a7",
   "metadata": {},
   "outputs": [],
   "source": [
    "prompt = ChatPromptTemplate.from_messages([(\"system\", system), (\"human\", human)])"
   ]
  },
  {
   "cell_type": "code",
   "execution_count": 51,
   "id": "27cb0018",
   "metadata": {},
   "outputs": [
    {
     "data": {
      "text/plain": [
       "'https://smith.langchain.com/prompts/rag-prompt-korean/cbfb554c?organizationId=5ede379f-7d77-4421-a6dc-44285dc72ab3'"
      ]
     },
     "execution_count": 51,
     "metadata": {},
     "output_type": "execute_result"
    }
   ],
   "source": [
    "client.create_prompt(\n",
    "    prompt_identifier=prompt_title,\n",
    "    is_public=False\n",
    ")\n",
    "\n",
    "client.push_prompt(\n",
    "    prompt_title,\n",
    "    object=prompt\n",
    ")"
   ]
  }
 ],
 "metadata": {
  "kernelspec": {
   "display_name": "lang_env",
   "language": "python",
   "name": "lang_env"
  },
  "language_info": {
   "codemirror_mode": {
    "name": "ipython",
    "version": 3
   },
   "file_extension": ".py",
   "mimetype": "text/x-python",
   "name": "python",
   "nbconvert_exporter": "python",
   "pygments_lexer": "ipython3",
   "version": "3.12.11"
  }
 },
 "nbformat": 4,
 "nbformat_minor": 5
}
